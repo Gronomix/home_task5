{
  "nbformat": 4,
  "nbformat_minor": 0,
  "metadata": {
    "colab": {
      "provenance": [],
      "toc_visible": true
    },
    "kernelspec": {
      "name": "python3",
      "display_name": "Python 3"
    },
    "language_info": {
      "name": "python"
    }
  },
  "cells": [
    {
      "cell_type": "markdown",
      "source": [
        "# Интерактивный учебный комплекс по машинному обучению для анализа физических систем \n",
        "\n"
      ],
      "metadata": {
        "id": "3iVkHJ4CdXO5"
      }
    },
    {
      "cell_type": "markdown",
      "source": [
        "В последние годы все больше применений в современной науке находят методы, основанные на машинном \n",
        "обучении и науке о данных. Высокая эффективность таких методов для решения дифференциальных \n",
        "уравнений и задач классификации делает их перспективными для использовании в области физики.\n",
        "Таким образом, возникает необходимость оперативной адаптации множества современных научных и \n",
        "учебных публикаций в области машинного обучения к программе и уровню знаний студентов физических\n",
        "специальностей. Кроме того, в связи со спецификой предмета возникает необходимость в интерактивных \n",
        "практикумах, включающих в себя исполняемые коды для демонстрации основных концепций. \n",
        "В связи с этим, задача по отбору, анализу и подготовке учебных материалов в области машинного обучения для\n",
        "физиков требует уровня подготовки, соответствующего магистранту физического факультета.\n",
        "\n",
        "\n"
      ],
      "metadata": {
        "id": "31HcRKvvgL-U"
      }
    },
    {
      "cell_type": "markdown",
      "source": [
        "# Что такое машинное обучение?\n",
        "\n",
        "***Введение в науку о данных и машинное обучение***\n",
        "\n",
        "[Презентация](https://docs.google.com/presentation/d/1gI9u4XRER896o7MD280_rzwDBM6KWqyZGP_Nd0BCLks/edit#slide=id.g183f84a2175_0_24)\n",
        "\n",
        "[Лекция](https://docs.google.com/document/d/1zVM2wSK54OMsoYJgZheGyhxYF3a4ZT6XnT5zGEHj9jM/edit)\n",
        "\n",
        "[Применение машинного обучения в различных сферах](https://docs.google.com/presentation/d/1o1UkxS9FNtwr7CUGMHz5w2FOcim767vX/edit#slide=id.g207dc08dad8_0_222)"
      ],
      "metadata": {
        "id": "KxIdNxJtQach"
      }
    },
    {
      "cell_type": "markdown",
      "source": [
        "# Необходимая подготовка\n"
      ],
      "metadata": {
        "id": "VK-BGSBFpdO1"
      }
    },
    {
      "cell_type": "markdown",
      "source": [
        "Для эффективного изучения необходимо выполнить следующие пункты:\n",
        "\n",
        "\n",
        "1.  [Установить интерпретатор Python](https://www.python.org/downloads/)\n",
        "\n",
        "2.  [Установить PyCharm](https://www.jetbrains.com/ru-ru/pycharm/) (для студентов доступны бесплатные версии Professional Edition) или другую IDE\n",
        "\n",
        "3.  [Установка дистрибутива Anaconda (по желанию)](https://www.anaconda.com/)\n",
        "\n",
        "4.  Также можно использовать [Google Colaboratory](https://colab.research.google.com/) или [Jupiter Notebook](https://jupyter.org/try) в этом случае вам не придется проделывать шаги 1-3 :)\n",
        "\n",
        "Для запуска ячеек с кодом используйте Shift + Enter или play"
      ],
      "metadata": {
        "id": "flN5txukpneS"
      }
    },
    {
      "cell_type": "markdown",
      "source": [
        "# NumPy\n"
      ],
      "metadata": {
        "id": "chAZY7AjhAK1"
      }
    },
    {
      "cell_type": "markdown",
      "source": [
        "NumPy"
      ],
      "metadata": {
        "id": "PmPfeq2njUtg"
      }
    },
    {
      "cell_type": "markdown",
      "source": [
        "Библиотека NumPy (сокращение от Numerical Python — «числовой Python») обе- спечивает эффективный интерфейс для хранения и работы с плотными буферами данных. Массивы библиотеки NumPy похожи на встроенный тип данных языка Python list, но обеспечивают гораздо более эффективное хранение и операции с данными при росте размера массивов. Массивы библиотеки NumPy формируют ядро практически всей экосистемы утилит для исследования данных Python. Время, проведенное за изучением способов эффективного использования пакета\n",
        "NumPy, не будет потрачено впустую вне зависимости от интересующего вас аспек- та науки о данных.\n",
        "\n",
        "Numpy предоставляет  𝑛 -мерные однородные массивы (все элементы одного типа); в них нельзя вставить или удалить элемент в произвольном месте. В numpy реализовано много операций над массивами в целом. Если задачу можно решить, произведя некоторую последовательность операций над массивами, то это будет столь же эффективно, как в C или matlab — львиная доля времени тратится в библиотечных функциях, написанных на C.\n",
        "\n",
        "Если сравнивать NumPy с другим ПО для математических вычислений, например MATLAB, то в своей области — линейная алгебра, операции над векторами (массивами) и матрицами — «герой» нашей статьи покрывает абсолютное большинство нужд, обеспечиваемых последним, а в некоторых областях даже превосходит его.\n",
        "\n",
        "Ключевые различия NumPy и MATLAB\n",
        "\n",
        "\n",
        "\n",
        "1.   В MATLAB базовый тип даже для скалярных (в частности, числовых) данных — многомерный массив.\n",
        "Массивы в MATLAB хранятся как двумерные массивы из чисел с плавающей точкой с двойной точностью, кроме случаев, когда вы сами указываете количество измерений и тип. Операции над двумерными экземплярами этих массивов основываются на матричных операциях линейной алгебры.\n",
        "\n",
        "*   MATLAB начинает нумерацию (индексацию) начиная с 1; a(1) — это первый элемент.\n",
        "*   Язык сценариев (скриптовый язык) MATLAB был создан для поддержки привычной нотации линейной алгебры, поэтому синтаксис для некоторых операций с массивами более компактный, чем в NumPy.\n",
        "\n",
        "*   Нарезание (slicing) массивов в MATLAB использует семантику передачи по ссылке, с «ленивым» (отложенным) копированием во время записи, чтобы избежать создания копий данных до момента когда они необходимы. Операции нарезания копируют части массива.\n",
        "\n",
        "\n",
        "\n",
        "\n",
        "2.   В NumPy, базовый тип — это многомерный массив. Переменные типа «массив» в NumPy обычно хранятся в n-мерных массивах с «минимальным» (наименее затратном в смысле занимаемой памяти) типом, необходимым для хранения объектов в последовательности, кроме случаев, когда вы задаете количество измерений и тип.\n",
        "NumPy производит поэлементные операции, поэтому перемножение двумерных массивов операцией «*» — это не перемножение матриц, это именно умножение элемента-на-элемент. Оператор «@», доступный начиная с версии Python 3.5, может использоваться для привычного перемножения матриц.\n",
        "\n",
        "\n",
        "*   NumPy, так же как Python и абсолютное большинство современных языков программирования, начинает индексацию с 0; первым элементом будет a[0].\n",
        "*   NumPy основан на Python, языке программирования общего назначения. Преимущество NumPy — в полноценном и неограниченном доступе к питоновским библиотекам, включая SciPy, Matplotlib, Pandas, OpenCV, и так далее. Вдобавок, Python часто встроен (embedded) в качестве скриптового языка в другое программное и даже аппаратное (например, NVIDIA CUDA) обеспечение, тем самым позволяя использовать NumPy в этих платформах.\n",
        "\n",
        "\n",
        "*   Операция нарезания в NumPy использует передачу по ссылке, что позволяет избежать копирования аргументов. Результаты операций нарезания на самом деле представления (Views) массивов, а не копии массивов.\n",
        "\n",
        "\n",
        "\n",
        "\n",
        "\n",
        "\n",
        "\n",
        "\n",
        "\n",
        "\n",
        "\n",
        "\n",
        "\n",
        "\n",
        "\n",
        "\n",
        "\n",
        "\n",
        "\n",
        "\n",
        "\n",
        "\n",
        "\n",
        "\n",
        "\n",
        "\n",
        "\n",
        "\n",
        "\n",
        "\n",
        "\n",
        "\n"
      ],
      "metadata": {
        "id": "JVkzrHltmSfE"
      }
    },
    {
      "cell_type": "markdown",
      "source": [
        "# Установка NumPy\n",
        "**Ubuntu Linux**\n",
        "1.   sudo apt update -y\n",
        "2.   sudo apt upgrade -y\n",
        "3.   sudo apt install python3-tk python3-pip -y\n",
        "4.   sudo pip install numpy -y\n",
        "\n",
        "**Anaconda**\n",
        "*   conda install -c anaconda numpy\n",
        "\n",
        "** Через терминал **\n",
        "*   pip install numpy\n",
        "\n",
        "Подробнее об установке:\n",
        "\n",
        "*   [NumPy Pypi](https://pypi.org/project/numpy/)\n",
        "*   [Официальная документация](https://numpy.org/)\n",
        "\n",
        "\n"
      ],
      "metadata": {
        "id": "qHhVbBFssVIX"
      }
    },
    {
      "cell_type": "markdown",
      "source": [
        "# NumPy использование"
      ],
      "metadata": {
        "id": "qNPvujX_ua1i"
      }
    },
    {
      "cell_type": "markdown",
      "source": [
        "**Чтобы проверить, что numpy установлен Вы можете импортировать его и вызвать дандер метод __version__ (используйте 2 нижних подчеркивания)**"
      ],
      "metadata": {
        "id": "NJo9ekukvF5S"
      }
    },
    {
      "cell_type": "code",
      "source": [
        "import numpy\n",
        "print(numpy.__version__)"
      ],
      "metadata": {
        "colab": {
          "base_uri": "https://localhost:8080/"
        },
        "id": "PI_T1ZlvvDCO",
        "outputId": "9712e0e1-d776-4ca2-871f-737a89e78942"
      },
      "execution_count": null,
      "outputs": [
        {
          "output_type": "stream",
          "name": "stdout",
          "text": [
            "1.21.6\n"
          ]
        }
      ]
    },
    {
      "cell_type": "markdown",
      "source": [
        "**Импорт NumPy как np для удобного использования и создание массивов**\n"
      ],
      "metadata": {
        "id": "Y3CzY9bvu3kn"
      }
    },
    {
      "cell_type": "code",
      "source": [
        "import numpy as np\n",
        "\n",
        "python_list = [1, 2, 3, 4, 5, 6]\n",
        "numpy_array = np.array(python_list)\n",
        "\n",
        "message = f\"Список {python_list} имеет тип данных - {type(python_list)}, а созданный \\n на его основе массив numpy: {numpy_array} имеет тип {type(numpy_array)}\" \n",
        "\n",
        "print(message)\n"
      ],
      "metadata": {
        "colab": {
          "base_uri": "https://localhost:8080/"
        },
        "id": "Io_mopZJsUyO",
        "outputId": "27f0ee85-6efc-4a9e-9d22-17cec70fa4e9"
      },
      "execution_count": null,
      "outputs": [
        {
          "output_type": "stream",
          "name": "stdout",
          "text": [
            "Список [1, 2, 3, 4, 5, 6] имеет тип данных - <class 'list'>, а созданный \n",
            " на его основе массив numpy: [1 2 3 4 5 6] имеет тип <class 'numpy.ndarray'>\n"
          ]
        }
      ]
    },
    {
      "cell_type": "markdown",
      "source": [
        "**Создание массива с помощью arange**\n",
        "\n",
        "np.arange(start, stop, step)\n",
        "\n",
        "**Примечание**\n",
        "Обратите внимание, что мы создаем массив похожим способом как создавали бы генератор с помощью range() в чистом Python. Также, стоит учитывать что значение ***stop*** не включается\n"
      ],
      "metadata": {
        "id": "1rx5Y_8aC6ku"
      }
    },
    {
      "cell_type": "code",
      "source": [
        "import numpy as np\n",
        "\n",
        "flat_array = np.arange(5)\n",
        "\n",
        "test_arr = np.arange(1, 10)\n",
        "\n",
        "param_arr = np.arange(1, 1000, 50)\n",
        "\n",
        "print(f\"flat_array \\n{flat_array}\\n test_arr: \\n{test_arr}\\n param_arr \\n{param_arr}\")\n"
      ],
      "metadata": {
        "colab": {
          "base_uri": "https://localhost:8080/"
        },
        "id": "vk1IiMojC58H",
        "outputId": "736eb82f-bbe0-449f-ca5c-0afe05bc77e1"
      },
      "execution_count": null,
      "outputs": [
        {
          "output_type": "stream",
          "name": "stdout",
          "text": [
            "flat_array \n",
            "[0 1 2 3 4]\n",
            " test_arr: \n",
            "[1 2 3 4 5 6 7 8 9]\n",
            " param_arr \n",
            "[  1  51 101 151 201 251 301 351 401 451 501 551 601 651 701 751 801 851\n",
            " 901 951]\n"
          ]
        }
      ]
    },
    {
      "cell_type": "markdown",
      "source": [
        "\n",
        "**Преобразование матрицы 3x3 из list в numpy array**\n"
      ],
      "metadata": {
        "id": "Ravi8_99xZ2L"
      }
    },
    {
      "cell_type": "code",
      "source": [
        "import numpy as np\n",
        "\n",
        "test_matrix = [\n",
        "    [1,2,3],\n",
        "    [4,5,6],\n",
        "    [7,8,9]\n",
        "  ]\n",
        "\n",
        "numpy_matrix = np.array(test_matrix)\n",
        "print(f\"{test_matrix}={type(test_matrix)},\\n{numpy_matrix}={type(numpy_matrix)}\")"
      ],
      "metadata": {
        "colab": {
          "base_uri": "https://localhost:8080/"
        },
        "id": "PqewKSD0hnbi",
        "outputId": "153c8385-b0a9-4f11-cd65-c76dc8254da5"
      },
      "execution_count": null,
      "outputs": [
        {
          "output_type": "stream",
          "name": "stdout",
          "text": [
            "[[1, 2, 3], [4, 5, 6], [7, 8, 9]]=<class 'list'>,\n",
            "[[1 2 3]\n",
            " [4 5 6]\n",
            " [7 8 9]]=<class 'numpy.ndarray'>\n"
          ]
        }
      ]
    },
    {
      "cell_type": "markdown",
      "source": [
        "**Создание массива, состоящего из нулей**\n",
        "\n",
        "np.zeros(i,j) - где i - количество строк, j - количество столбцов (по умолчанию равно 0). Также в качестве необязательного аргумента можно указывать, \n",
        "dtype = int тогда все элементы массива будут принадлежать типу int\n",
        "\n",
        "**Примечание**\n",
        "Если нам необходимо создать нулевую матрицу с ненулевым j пару значений i,j следует передавать в функцию в виде кортежа с элементами i,j\n",
        "\n",
        "\n"
      ],
      "metadata": {
        "id": "quJZ4nmy5Jmq"
      }
    },
    {
      "cell_type": "code",
      "source": [
        "import numpy as np\n",
        "\n",
        "flat_array = np.zeros(5, dtype= int)\n",
        "zero_matrix = np.zeros((3,3), dtype = float)\n",
        "\n",
        "print(f'{flat_array} - flat_array', \"\\n\", f'\\n zero_matrix: \\n {zero_matrix}')"
      ],
      "metadata": {
        "colab": {
          "base_uri": "https://localhost:8080/"
        },
        "id": "cK_3M1VZhnep",
        "outputId": "9379151c-d790-41b3-f478-46a9b09a47c6"
      },
      "execution_count": null,
      "outputs": [
        {
          "output_type": "stream",
          "name": "stdout",
          "text": [
            "[0 0 0 0 0] - flat_array \n",
            " \n",
            " zero_matrix: \n",
            " [[0. 0. 0.]\n",
            " [0. 0. 0.]\n",
            " [0. 0. 0.]]\n"
          ]
        }
      ]
    },
    {
      "cell_type": "markdown",
      "source": [],
      "metadata": {
        "id": "HR7Pwl4H5Evw"
      }
    },
    {
      "cell_type": "code",
      "source": [
        "import numpy as np\n",
        "\n",
        "flat_array = np.ones(5, dtype = float)\n",
        "ones_matrix = np.ones((3,3), dtype= int)\n",
        "\n",
        "print(f'{flat_array} - flat_array', \"\\n\", f'\\n ones_matrix: \\n {ones_matrix}')\n"
      ],
      "metadata": {
        "colab": {
          "base_uri": "https://localhost:8080/"
        },
        "id": "9NNfy4M2hniB",
        "outputId": "d4ede859-eedc-4dcb-e087-4f25eaf7e5dd"
      },
      "execution_count": null,
      "outputs": [
        {
          "output_type": "stream",
          "name": "stdout",
          "text": [
            "[1. 1. 1. 1. 1.] - flat_array \n",
            " \n",
            " ones_matrix: \n",
            " [[1 1 1]\n",
            " [1 1 1]\n",
            " [1 1 1]]\n"
          ]
        }
      ]
    },
    {
      "cell_type": "markdown",
      "source": [
        "**Создание линейного пространства определенной размерности**\n",
        "В случае, когда нам нужно создать массив определенной размерности, значения которого входят в один диапазон хорошим решением станет использование функции ***linspace(start, stop, length)***, по умолчанию length = 50"
      ],
      "metadata": {
        "id": "LvbBYiI1IoZ9"
      }
    },
    {
      "cell_type": "code",
      "source": [
        "import numpy as np\n",
        "\n",
        "fisrt_linsp = np.linspace(0,10,32)\n",
        "second_linsp = np.linspace(0,10)\n",
        "\n",
        "print(f'Линейное пространство с указанием количества элементов: \\n {fisrt_linsp}')\n",
        "print(f\"Количество элементов в массиве = {len(fisrt_linsp)}\")\n",
        "print('------------------------------------------------')\n",
        "\n",
        "print(f'Пространство без указания количества элементов {second_linsp}')\n",
        "print(f'Количество элементов в массиве по умолчанию равно {len(second_linsp)}')\n",
        "\n",
        "\n",
        "\n"
      ],
      "metadata": {
        "colab": {
          "base_uri": "https://localhost:8080/"
        },
        "id": "vKMLEonjhnk5",
        "outputId": "939c661f-10d4-48a4-9990-c67a29fb9e19"
      },
      "execution_count": null,
      "outputs": [
        {
          "output_type": "stream",
          "name": "stdout",
          "text": [
            "Линейное пространство с указанием количества элементов: \n",
            " [ 0.          0.32258065  0.64516129  0.96774194  1.29032258  1.61290323\n",
            "  1.93548387  2.25806452  2.58064516  2.90322581  3.22580645  3.5483871\n",
            "  3.87096774  4.19354839  4.51612903  4.83870968  5.16129032  5.48387097\n",
            "  5.80645161  6.12903226  6.4516129   6.77419355  7.09677419  7.41935484\n",
            "  7.74193548  8.06451613  8.38709677  8.70967742  9.03225806  9.35483871\n",
            "  9.67741935 10.        ]\n",
            "Количество элементов в массиве = 32\n",
            "------------------------------------------------\n",
            "Пространство без указания количества элементов [ 0.          0.20408163  0.40816327  0.6122449   0.81632653  1.02040816\n",
            "  1.2244898   1.42857143  1.63265306  1.83673469  2.04081633  2.24489796\n",
            "  2.44897959  2.65306122  2.85714286  3.06122449  3.26530612  3.46938776\n",
            "  3.67346939  3.87755102  4.08163265  4.28571429  4.48979592  4.69387755\n",
            "  4.89795918  5.10204082  5.30612245  5.51020408  5.71428571  5.91836735\n",
            "  6.12244898  6.32653061  6.53061224  6.73469388  6.93877551  7.14285714\n",
            "  7.34693878  7.55102041  7.75510204  7.95918367  8.16326531  8.36734694\n",
            "  8.57142857  8.7755102   8.97959184  9.18367347  9.3877551   9.59183673\n",
            "  9.79591837 10.        ]\n",
            "Количество элементов в массиве по умолчанию равно 50\n"
          ]
        }
      ]
    },
    {
      "cell_type": "markdown",
      "source": [
        "**Создание единичной матрицы**\n",
        "np.eye(N), где N - размерность "
      ],
      "metadata": {
        "id": "QThFU5FtMkS9"
      }
    },
    {
      "cell_type": "code",
      "source": [
        "import numpy as np\n",
        "\n",
        "matrix = np.eye(3)\n",
        "matrix"
      ],
      "metadata": {
        "colab": {
          "base_uri": "https://localhost:8080/"
        },
        "id": "ikCe57dcMhkP",
        "outputId": "248f1866-33a1-4246-ec0a-3e2f6ba8fb27"
      },
      "execution_count": null,
      "outputs": [
        {
          "output_type": "execute_result",
          "data": {
            "text/plain": [
              "array([[1., 0., 0.],\n",
              "       [0., 1., 0.],\n",
              "       [0., 0., 1.]])"
            ]
          },
          "metadata": {},
          "execution_count": 2
        }
      ]
    },
    {
      "cell_type": "markdown",
      "source": [
        "**Создание массива со случайными значениями**\n",
        "\n",
        "np.random.rand(i, j), где i - строки, j - столбцы(если не передавать, по умолчанию используется 0)"
      ],
      "metadata": {
        "id": "grOKLKnj9aqR"
      }
    },
    {
      "cell_type": "code",
      "source": [
        "import numpy as np\n",
        "\n",
        "arr = np.random.rand(3,4)\n",
        "print(type(arr),'\\n', arr)\n",
        "\n",
        "flat_arr = np.random.rand(3)\n",
        "print('--------------------------')\n",
        "print(type(flat_arr), '\\n', flat_arr)\n"
      ],
      "metadata": {
        "colab": {
          "base_uri": "https://localhost:8080/"
        },
        "id": "7t2EDtPL9azV",
        "outputId": "fbd5c62f-a2c4-4670-9113-787e31e1f6a4"
      },
      "execution_count": null,
      "outputs": [
        {
          "output_type": "stream",
          "name": "stdout",
          "text": [
            "<class 'numpy.ndarray'> \n",
            " [[0.21590649 0.93797167 0.45809725 0.88096032]\n",
            " [0.94832773 0.38667628 0.54960955 0.59518285]\n",
            " [0.56064744 0.35696249 0.76171636 0.01055389]]\n",
            "--------------------------\n",
            "<class 'numpy.ndarray'> \n",
            " [0.57394051 0.19586616 0.35857444]\n"
          ]
        }
      ]
    },
    {
      "cell_type": "markdown",
      "source": [
        "**Создание массива со случайными целыми значениями**\n",
        "\n",
        "np.random.randint(start, stop, size)\n",
        "\n",
        "Параметр size можно представить в виде кортежа (i,j), где i,j строки и столбцы соответственно.\n"
      ],
      "metadata": {
        "id": "kf_bF4nY_4So"
      }
    },
    {
      "cell_type": "code",
      "source": [
        "import numpy as np\n",
        "\n",
        "matrix = np.random.randint(0,101, (4,5))\n",
        "print(matrix)\n"
      ],
      "metadata": {
        "colab": {
          "base_uri": "https://localhost:8080/"
        },
        "id": "kzckZ3hLAWZ9",
        "outputId": "bd9c586e-d27d-483f-8508-37d58c10d3d5"
      },
      "execution_count": null,
      "outputs": [
        {
          "output_type": "stream",
          "name": "stdout",
          "text": [
            "[[18 93 77 22 23]\n",
            " [94 11 28 74 88]\n",
            " [ 9 15 18 80 71]\n",
            " [88 11 17 46  7]]\n"
          ]
        }
      ]
    },
    {
      "cell_type": "markdown",
      "source": [
        "**Аттрибуты массива Numpy**\n"
      ],
      "metadata": {
        "id": "OwhXzwOECg8E"
      }
    },
    {
      "cell_type": "code",
      "source": [
        "import numpy as np\n",
        "\n",
        "matrix = np.random.randint(0,10, (3,3))\n",
        "\n",
        "\n"
      ],
      "metadata": {
        "colab": {
          "base_uri": "https://localhost:8080/"
        },
        "id": "5cBzccXdCgmt",
        "outputId": "8a94e1e7-b1aa-4e37-a886-8bd383ba22a7"
      },
      "execution_count": null,
      "outputs": [
        {
          "output_type": "execute_result",
          "data": {
            "text/plain": [
              "array([[0, 0, 6],\n",
              "       [9, 1, 8],\n",
              "       [9, 1, 2]])"
            ]
          },
          "metadata": {},
          "execution_count": 36
        }
      ]
    },
    {
      "cell_type": "markdown",
      "source": [
        "# Изменение размера массива с помощью метода reshape\n",
        "\n",
        "matrix.reshape(i, j)  \n",
        "где matrix - объект исходного массива NumPy, а i, j размерность нового массива.\n"
      ],
      "metadata": {
        "id": "fPWnWVDRDdn9"
      }
    },
    {
      "cell_type": "code",
      "source": [
        "import numpy as np\n",
        "\n",
        "print('Массив размером 10x10 \\n')\n",
        "matrix = np.random.randint(0, 100,(10,10))\n",
        "print(matrix)\n",
        "print('________________________ \\n')\n",
        "\n",
        "print('Массив размером 25x4 \\n')\n",
        "arr = matrix.reshape(25,4)\n",
        "print(arr)\n",
        "\n",
        "print('________________________ \\n')\n",
        "print('Массив размером 4x25 \\n')\n",
        "arr = matrix.reshape(4,25)\n",
        "print(arr)\n"
      ],
      "metadata": {
        "colab": {
          "base_uri": "https://localhost:8080/"
        },
        "id": "8w_0AVBDNC60",
        "outputId": "d54aa144-5f5c-4567-c0c2-fe64c30f7d77"
      },
      "execution_count": null,
      "outputs": [
        {
          "output_type": "stream",
          "name": "stdout",
          "text": [
            "Массив размером 10x10 \n",
            "\n",
            "[[ 4 25 70 55 20 26 67 45 53 34]\n",
            " [59 74 47 59 40 97 32 48 66 56]\n",
            " [89 20  0 16 13 97 92 73  2 57]\n",
            " [37 59 18 22 73 80 93 32 54 16]\n",
            " [31 57 66 46 36 63 93 60 72 62]\n",
            " [27 55 47 48 89 20 28 54 15  2]\n",
            " [50 33 99  7 15 53 58 55 80 39]\n",
            " [81 14 38 76  8 94 83 79 80 47]\n",
            " [80  5 11 95 25 23 22 58 51  6]\n",
            " [49  8 57 23 72 66 37 51 24 70]]\n",
            "________________________ \n",
            "\n",
            "Массив размером 25x4 \n",
            "\n",
            "[[ 4 25 70 55]\n",
            " [20 26 67 45]\n",
            " [53 34 59 74]\n",
            " [47 59 40 97]\n",
            " [32 48 66 56]\n",
            " [89 20  0 16]\n",
            " [13 97 92 73]\n",
            " [ 2 57 37 59]\n",
            " [18 22 73 80]\n",
            " [93 32 54 16]\n",
            " [31 57 66 46]\n",
            " [36 63 93 60]\n",
            " [72 62 27 55]\n",
            " [47 48 89 20]\n",
            " [28 54 15  2]\n",
            " [50 33 99  7]\n",
            " [15 53 58 55]\n",
            " [80 39 81 14]\n",
            " [38 76  8 94]\n",
            " [83 79 80 47]\n",
            " [80  5 11 95]\n",
            " [25 23 22 58]\n",
            " [51  6 49  8]\n",
            " [57 23 72 66]\n",
            " [37 51 24 70]]\n",
            "________________________ \n",
            "\n",
            "Массив размером 4x25 \n",
            "\n",
            "[[ 4 25 70 55 20 26 67 45 53 34 59 74 47 59 40 97 32 48 66 56 89 20  0 16\n",
            "  13]\n",
            " [97 92 73  2 57 37 59 18 22 73 80 93 32 54 16 31 57 66 46 36 63 93 60 72\n",
            "  62]\n",
            " [27 55 47 48 89 20 28 54 15  2 50 33 99  7 15 53 58 55 80 39 81 14 38 76\n",
            "   8]\n",
            " [94 83 79 80 47 80  5 11 95 25 23 22 58 51  6 49  8 57 23 72 66 37 51 24\n",
            "  70]]\n"
          ]
        }
      ]
    },
    {
      "cell_type": "markdown",
      "source": [
        "# Создание массива случайных элементов\n",
        "\n",
        "np.emty((rows, columns)), \n",
        "columns = 0 по умолчанию"
      ],
      "metadata": {
        "id": "Cy-JqSJocgpl"
      }
    },
    {
      "cell_type": "code",
      "source": [
        "import numpy as np\n",
        "\n",
        "flat_arr = np.empty(4)\n",
        "print(flat_arr)\n",
        "\n",
        "print('\\n массив 4x4 \\n')\n",
        "arr = np.empty((4,4))\n",
        "print(arr)"
      ],
      "metadata": {
        "colab": {
          "base_uri": "https://localhost:8080/"
        },
        "id": "hrb_8oKqcO1_",
        "outputId": "3d31c7d2-f9e4-4316-a4cf-7d870a88d046"
      },
      "execution_count": null,
      "outputs": [
        {
          "output_type": "stream",
          "name": "stdout",
          "text": [
            "[0.75 0.75 0.  ]\n",
            "\n",
            " массив 4x4 \n",
            "\n",
            "[[1.69653763e-316 3.80430547e-322 0.00000000e+000 0.00000000e+000]\n",
            " [2.01589600e-312 1.50008929e+248 4.31174539e-096 9.80058441e+252]\n",
            " [1.23971686e+224 2.59032240e-144 6.06003395e+233 1.06400250e+248]\n",
            " [2.59050167e-144 5.22286946e-143 2.66023306e-312 0.00000000e+000]]\n"
          ]
        }
      ]
    },
    {
      "cell_type": "markdown",
      "source": [
        "# Аттрибуты массива NumPy\n"
      ],
      "metadata": {
        "id": "7q-DXC-Q1zv-"
      }
    },
    {
      "cell_type": "code",
      "source": [
        "import numpy as np\n",
        "\n",
        "arr = np.array([\n",
        "    [1,2,3],\n",
        "    [4,5,6],\n",
        "    [7,8,9]\n",
        "  ])\n",
        "\n",
        "\n",
        "rang = arr.ndim\n",
        "size = arr.size\n",
        "shape = arr.shape\n",
        "data_type = arr.dtype\n",
        "bytes_number = arr.itemsize \n",
        "s = arr.sum()\n",
        "min_elem = arr.min()\n",
        "max_elem = arr.max()\n",
        "\n",
        "\n",
        "info = {\n",
        "  'Ранг матрицы': arr.ndim,\n",
        "  'Количество элементов матрицы': size,\n",
        "  'Размерность матрицы': shape,\n",
        "  'Тип данных для элементов матрицы': data_type,\n",
        "  'Размер каждого элемента в массиве в байтах': bytes_number,\n",
        "  'Сумма элементов': s,\n",
        "  'Минимльный элемент': min_elem,\n",
        "  'Максимальный элемент': max_elem\n",
        "}\n",
        "\n",
        "print(info)\n"
      ],
      "metadata": {
        "id": "21yZjmbpeckk"
      },
      "execution_count": null,
      "outputs": []
    },
    {
      "cell_type": "markdown",
      "source": [
        "# Тригонометрические функции  с массивами NumPy\n",
        "\n"
      ],
      "metadata": {
        "id": "ruSwgZcZj7DP"
      }
    },
    {
      "cell_type": "code",
      "source": [
        "import numpy as np\n",
        "\n",
        "\n",
        "matrix = np.array([\n",
        "    [1,0,1],\n",
        "    [0,1,-1]\n",
        "])\n",
        "\n",
        "trigonometry_dictionary = {\n",
        "    \"sin_matrix\": np.sin(matrix),\n",
        "    \"arcsin_matrix\": np.arcsin(matrix),\n",
        "    \"cos_matrix\": np.cos(matrix),\n",
        "    \"arccos_matrix\": np.arccos(matrix),\n",
        "    \"tan_matrix\": np.tan(matrix),\n",
        "    \"arctan_matrix\": np.arctan(matrix)\n",
        "}\n",
        "\n",
        "\n",
        "for key, value in trigonometry_dictionary.items():\n",
        "  print(key)\n",
        "  print(value)\n",
        "  print('--------------------------------------')\n",
        "\n",
        "\n",
        "\n",
        "\n",
        "\n"
      ],
      "metadata": {
        "id": "-AoLEEO1kVfj",
        "colab": {
          "base_uri": "https://localhost:8080/"
        },
        "outputId": "2cebccec-79e9-4831-bd34-f714d17b58ec"
      },
      "execution_count": null,
      "outputs": [
        {
          "output_type": "stream",
          "name": "stdout",
          "text": [
            "sin_matrix\n",
            "[[ 0.84147098  0.          0.84147098]\n",
            " [ 0.          0.84147098 -0.84147098]]\n",
            "--------------------------------------\n",
            "arcsin_matrix\n",
            "[[ 1.57079633  0.          1.57079633]\n",
            " [ 0.          1.57079633 -1.57079633]]\n",
            "--------------------------------------\n",
            "cos_matrix\n",
            "[[0.54030231 1.         0.54030231]\n",
            " [1.         0.54030231 0.54030231]]\n",
            "--------------------------------------\n",
            "arccos_matrix\n",
            "[[0.         1.57079633 0.        ]\n",
            " [1.57079633 0.         3.14159265]]\n",
            "--------------------------------------\n",
            "tan_matrix\n",
            "[[ 1.55740772  0.          1.55740772]\n",
            " [ 0.          1.55740772 -1.55740772]]\n",
            "--------------------------------------\n",
            "arctan_matrix\n",
            "[[ 0.78539816  0.          0.78539816]\n",
            " [ 0.          0.78539816 -0.78539816]]\n",
            "--------------------------------------\n"
          ]
        }
      ]
    },
    {
      "cell_type": "markdown",
      "source": [
        "# **Гиперболические функции**"
      ],
      "metadata": {
        "id": "d1eTYSlTMu8y"
      }
    },
    {
      "cell_type": "code",
      "source": [
        "import numpy as np\n",
        "\n",
        "\n",
        "matrix = np.array([\n",
        "    [0.5,0.9,0.7],\n",
        "    [-0.8,0.3,-0.6]\n",
        "])\n",
        "\n",
        "hypertrig_dict = {\n",
        "    \"sinh(matrix)\": np.sinh(matrix),\n",
        "    \"cosh(matrix)\": np.cosh(matrix),\n",
        "    \"tanh(matrix)\": np.tanh(matrix),\n",
        "    \"arcsinh(matrix)\":np.arcsinh(matrix),\n",
        "    \"arccosh(matrix)\":np.arccosh(np.array([1,1,1])),\n",
        "    \"arctanh(matrix)\":np.arctanh(matrix),\n",
        "}\n",
        "\n",
        "for key, value in hypertrig_dict.items():\n",
        "  print(key)\n",
        "  print(value)\n",
        "  print('--------------------------------------')"
      ],
      "metadata": {
        "colab": {
          "base_uri": "https://localhost:8080/"
        },
        "id": "xjkKq08MM3E3",
        "outputId": "7939b922-7f20-45de-8f09-b335c90faf96"
      },
      "execution_count": null,
      "outputs": [
        {
          "output_type": "stream",
          "name": "stdout",
          "text": [
            "sinh(matrix)\n",
            "[[ 0.52109531  1.02651673  0.7585837 ]\n",
            " [-0.88810598  0.30452029 -0.63665358]]\n",
            "--------------------------------------\n",
            "cosh(matrix)\n",
            "[[1.12762597 1.43308639 1.25516901]\n",
            " [1.33743495 1.04533851 1.18546522]]\n",
            "--------------------------------------\n",
            "tanh(matrix)\n",
            "[[ 0.46211716  0.71629787  0.60436778]\n",
            " [-0.66403677  0.29131261 -0.53704957]]\n",
            "--------------------------------------\n",
            "arcsinh(matrix)\n",
            "[[ 0.48121183  0.80886694  0.65266657]\n",
            " [-0.73266826  0.29567305 -0.5688249 ]]\n",
            "--------------------------------------\n",
            "arccosh(matrix)\n",
            "[0. 0. 0.]\n",
            "--------------------------------------\n",
            "arctanh(matrix)\n",
            "[[ 0.54930614  1.47221949  0.86730053]\n",
            " [-1.09861229  0.3095196  -0.69314718]]\n",
            "--------------------------------------\n"
          ]
        }
      ]
    },
    {
      "cell_type": "markdown",
      "source": [
        "# NumPy и линейная алгебра"
      ],
      "metadata": {
        "id": "6F5hw5pcSISa"
      }
    },
    {
      "cell_type": "markdown",
      "source": [
        "# Создание матрицы и вычисление определителя\n",
        "\n",
        "В NumPy есть класс linalg, поддерживающий операции линейной алгебры\n"
      ],
      "metadata": {
        "id": "k4WF4mJ1VcCo"
      }
    },
    {
      "cell_type": "code",
      "source": [
        "import numpy as np\n",
        "\n",
        "matrix = np.random.randint(0,10, (3,3))\n",
        "\n",
        "determ = np.linalg.det(matrix)\n",
        "\n",
        "print(\"Исходная матрица\")\n",
        "print(matrix)\n",
        "print(\"Определитель равен\", determ)\n",
        "\n",
        "\n"
      ],
      "metadata": {
        "colab": {
          "base_uri": "https://localhost:8080/"
        },
        "id": "81polrnHSNI1",
        "outputId": "51e6df2b-4c0a-46f3-dbc1-491e3026a6ee"
      },
      "execution_count": null,
      "outputs": [
        {
          "output_type": "stream",
          "name": "stdout",
          "text": [
            "Исходная матрица\n",
            "[[0 1 0]\n",
            " [4 1 9]\n",
            " [2 2 0]]\n",
            "Определитель равен 17.999999999999996\n"
          ]
        }
      ]
    },
    {
      "cell_type": "markdown",
      "source": [
        "#***Базовые операции с массивом NumPy***\n",
        "Возведение в степень, транспонирование, сложение, вычитание, умножение матриц"
      ],
      "metadata": {
        "id": "NqycQsXBZ7sV"
      }
    },
    {
      "cell_type": "markdown",
      "source": [
        "# ***Умножение матриц***"
      ],
      "metadata": {
        "id": "wEY8X6FrELxU"
      }
    },
    {
      "cell_type": "code",
      "source": [
        "import numpy as np\n",
        "\n",
        "A = np.random.randint(0,10, (3,3))\n",
        "\n",
        "B = np.random.randint(0,10, (3,3))\n",
        "\n",
        "C = np.dot(A,B)\n",
        "print(\"Произведение матрицы\")\n",
        "print(A)\n",
        "print(\"на матрицу\")\n",
        "print(B)\n",
        "print(\"Результат: \")\n",
        "print(C)\n",
        "\n",
        "\n",
        "print(\"Теперь поменяем слагаемые местами и умножим вторую матрицу на первую\")\n",
        "\n",
        "print(np.dot(B,A))"
      ],
      "metadata": {
        "id": "Iu_oGslnEJwd",
        "colab": {
          "base_uri": "https://localhost:8080/"
        },
        "outputId": "5edf1453-e843-4e21-eba1-f6086df7645a"
      },
      "execution_count": null,
      "outputs": [
        {
          "output_type": "stream",
          "name": "stdout",
          "text": [
            "Произведение матрицы\n",
            "[[5 3 4]\n",
            " [4 9 8]\n",
            " [9 4 9]]\n",
            "на матрицу\n",
            "[[8 8 0]\n",
            " [0 4 2]\n",
            " [8 8 9]]\n",
            "Результат: \n",
            "[[ 72  84  42]\n",
            " [ 96 132  90]\n",
            " [144 160  89]]\n",
            "Теперь поменяем слагаемые местами и умножим вторую матрицу на первую\n",
            "[[ 72  96  96]\n",
            " [ 34  44  50]\n",
            " [153 132 177]]\n"
          ]
        }
      ]
    },
    {
      "cell_type": "markdown",
      "source": [
        "# ***Транспонирование матриц***\n"
      ],
      "metadata": {
        "id": "N2hMofmLhtRe"
      }
    },
    {
      "cell_type": "code",
      "source": [
        "import numpy as np\n",
        "\n",
        "A = np.random.randint(0,10, (3,3))\n",
        "\n",
        "print(\"Исходная матрица\")\n",
        "print(A)\n",
        "print(\"Транспонированная матрица\")\n",
        "print(A.transpose())"
      ],
      "metadata": {
        "colab": {
          "base_uri": "https://localhost:8080/"
        },
        "id": "ahOyWAtdh9Ms",
        "outputId": "00d24e6c-c95e-4086-fd1d-cb6cbececaa7"
      },
      "execution_count": null,
      "outputs": [
        {
          "output_type": "stream",
          "name": "stdout",
          "text": [
            "Исходная матрица\n",
            "[[8 9 1]\n",
            " [7 2 1]\n",
            " [1 0 5]]\n",
            "Транспонированная матрица\n",
            "[[8 7 1]\n",
            " [9 2 0]\n",
            " [1 1 5]]\n"
          ]
        }
      ]
    },
    {
      "cell_type": "markdown",
      "source": [
        "# ***Возведение в степень***\n",
        "\n",
        "np.linalg.matrix_power(A, n) - где A - это исходная матрица, а n - показатель степени"
      ],
      "metadata": {
        "id": "Ga2VBKFtlL8I"
      }
    },
    {
      "cell_type": "code",
      "source": [
        "import numpy as np\n",
        "\n",
        "n = int(input(\"Введите n: \"))\n",
        "\n",
        "A = np.random.randint(0,10, (3,3))\n",
        "\n",
        "B = np.linalg.matrix_power(A, n)\n",
        "\n",
        "print(\"Исходная матрица\")\n",
        "print(A)\n",
        "\n",
        "print(f\"Матрица возведенная в степень {n}\")\n",
        "print(B)\n"
      ],
      "metadata": {
        "colab": {
          "base_uri": "https://localhost:8080/"
        },
        "id": "VIENqMW1lYaD",
        "outputId": "e3aeac98-381e-4c56-82a6-5c305f1423c3"
      },
      "execution_count": null,
      "outputs": [
        {
          "output_type": "stream",
          "name": "stdout",
          "text": [
            "Введите n: 3\n",
            "Исходная матрица\n",
            "[[4 0 2]\n",
            " [8 1 9]\n",
            " [4 8 7]]\n",
            "Матрица возведенная в степень 3\n",
            "[[ 312  192  346]\n",
            " [1240  777 1425]\n",
            " [1460 1096 1695]]\n"
          ]
        }
      ]
    },
    {
      "cell_type": "markdown",
      "source": [
        "# ***Вычисление обратной матрицы***\n",
        "\n",
        "\n",
        "Решим задачу определения обратной матрицы на Python. \n",
        "Для получения обратной\n",
        "матрицы будем использовать функцию inv():"
      ],
      "metadata": {
        "id": "EBVAa9g6mOG_"
      }
    },
    {
      "cell_type": "code",
      "source": [
        "import numpy as np\n",
        "\n",
        "matrix = np.random.randint(0,10, (3,3))\n",
        "\n",
        "inv_matrix = np.linalg.inv(matrix)\n",
        "\n",
        "print(inv_matrix)\n",
        "\n"
      ],
      "metadata": {
        "colab": {
          "base_uri": "https://localhost:8080/"
        },
        "id": "nBY_jEW8mNko",
        "outputId": "f23fd696-58cb-403b-c10d-449629ad3a75"
      },
      "execution_count": null,
      "outputs": [
        {
          "output_type": "stream",
          "name": "stdout",
          "text": [
            "[[ 0.07042254  0.11971831 -0.21830986]\n",
            " [ 0.28169014 -0.02112676 -0.37323944]\n",
            " [-0.23943662 -0.00704225  0.54225352]]\n"
          ]
        }
      ]
    },
    {
      "cell_type": "markdown",
      "source": [
        "# ***QR-разложение матрицы***\n",
        "\n",
        "QR разложение позволяет представить матрицу A в виде произведения QR, где Q - это ортогональная (унитарная) матрица, а R - это верхнетреугольная матрица."
      ],
      "metadata": {
        "id": "8VL5Cv_w1jPR"
      }
    },
    {
      "cell_type": "code",
      "source": [
        "import numpy as np\n",
        "\n",
        "A = np.random.randint(0,10, (3,3))\n",
        "\n",
        "Q,R = np.linalg.qr(matrix)\n",
        "print('Матрица А')\n",
        "print(A)\n",
        "print('_____________')\n",
        "print('Матрица Q')\n",
        "print(Q)\n",
        "print('_____________')\n",
        "print('Матрица R')\n",
        "print(R)"
      ],
      "metadata": {
        "colab": {
          "base_uri": "https://localhost:8080/"
        },
        "id": "_M73l0Vz1oFs",
        "outputId": "b6f633cb-929f-4d7d-bd80-e1fffa581b89"
      },
      "execution_count": null,
      "outputs": [
        {
          "output_type": "stream",
          "name": "stdout",
          "text": [
            "Матрица А\n",
            "[[4 7 6]\n",
            " [0 5 5]\n",
            " [7 6 2]]\n",
            "_____________\n",
            "Матрица Q\n",
            "[[-0.56225353  0.8229362   0.08152896]\n",
            " [-0.40160966 -0.18554265 -0.8968186 ]\n",
            " [-0.7228974  -0.53698224  0.43482114]]\n",
            "_____________\n",
            "Матрица R\n",
            "[[-12.4498996   -6.1044669  -12.4498996 ]\n",
            " [  0.          -2.9555852    1.69171236]\n",
            " [  0.           0.          -4.81020886]]\n"
          ]
        }
      ]
    },
    {
      "cell_type": "markdown",
      "source": [
        "# ***Сингулярное (SVD) разложение матрицы***\n",
        "\n",
        "Функция np.linalg.svd(matrix) возвращает кортеж из трех значений, обозначим их как U, S, Vh.\n",
        "Так как SVD позволяет представить матрицу A размером (m, n) в виде произведения \n",
        "A=UΣV∗\n"
      ],
      "metadata": {
        "id": "ZPUlCEhu4Veq"
      }
    },
    {
      "cell_type": "code",
      "source": [
        "import numpy as np\n",
        "\n",
        "A = np.random.randint(0,10, (3,3))\n",
        "\n",
        "U, S, Vh = np.linalg.svd(A)\n",
        "\n",
        "print(\"Матрица А\")\n",
        "\n",
        "print(\"Результат SVD:\")\n",
        "\n",
        "print(\"Матрица U\")\n",
        "print(U)\n",
        "\n",
        "print(\"Матрица S\")\n",
        "print(S)\n",
        "\n",
        "print(\"Матрица Vh\")\n",
        "print(Vh)\n",
        "\n",
        "\n"
      ],
      "metadata": {
        "colab": {
          "base_uri": "https://localhost:8080/"
        },
        "id": "7JWOmCwp4UyL",
        "outputId": "dba18254-7501-4b4c-de9e-6a553b7691f8"
      },
      "execution_count": null,
      "outputs": [
        {
          "output_type": "stream",
          "name": "stdout",
          "text": [
            "Матрица А\n",
            "Результат SVD:\n",
            "Матрица U\n",
            "[[-0.45276325 -0.76370376 -0.46017605]\n",
            " [-0.87840106  0.29347207  0.3772078 ]\n",
            " [-0.1530262   0.57500496 -0.80371157]]\n",
            "Матрица S\n",
            "[14.27187499  6.02762126  2.23189747]\n",
            "Матрица Vh\n",
            "[[-0.28907968 -0.80772257 -0.51382603]\n",
            " [ 0.57633152 -0.57541463  0.58029301]\n",
            " [-0.76437878 -0.12838322  0.63185665]]\n"
          ]
        }
      ]
    },
    {
      "cell_type": "markdown",
      "source": [
        "# ***Среднее значение массива Numpy***\n",
        "\n",
        "Для вычисления среднего значения массива Numpy можно использовать функцию average() или mean().\n",
        "\n",
        "Рассмотрим пример ниже."
      ],
      "metadata": {
        "id": "G2WiJXXZA3Pv"
      }
    },
    {
      "cell_type": "code",
      "source": [
        "import numpy as np\n",
        "\n",
        "A = np.random.randint(0,10, (3,3))\n",
        "\n",
        "avg = np.average(A)\n",
        "m_avg = np.mean(A)\n",
        "\n",
        "print(\"Исходная матрица\")\n",
        "print(A)\n",
        "print(\"---------------\")\n",
        "print(\"Среднее значение:\", avg)\n",
        "print(\"Среднее значение через функцию mean:\", m_avg)"
      ],
      "metadata": {
        "colab": {
          "base_uri": "https://localhost:8080/"
        },
        "id": "ee1GcZfD_WBM",
        "outputId": "1cdbaf3a-b4e0-4b3e-bbff-752167038ff8"
      },
      "execution_count": null,
      "outputs": [
        {
          "output_type": "stream",
          "name": "stdout",
          "text": [
            "Исходная матрица\n",
            "[[2 0 1]\n",
            " [5 1 8]\n",
            " [7 8 7]]\n",
            "---------------\n",
            "Среднее значение: 4.333333333333333\n",
            "Среднее значение через функцию mean: 4.333333333333333\n"
          ]
        }
      ]
    },
    {
      "cell_type": "markdown",
      "source": [
        "# ***Стандартное отклонение значений элементов массива расположенных вдоль указанной оси.***\n",
        "\n",
        "\n",
        "Функция std() вычисляет среднеквадратичное (стандартное) отклонение значений элементов массива.\n",
        "\n"
      ],
      "metadata": {
        "id": "R6BleCU8_Waq"
      }
    },
    {
      "cell_type": "code",
      "source": [
        "import numpy as np\n",
        "\n",
        "A = np.random.randint(0,10, (3,3))\n",
        "\n",
        "st_d = np.std(A)\n",
        "\n",
        "print(\"Исходная матрица\")\n",
        "print(A)\n",
        "print(\"---------------\")\n",
        "print(\"Среднеквадратичное отклонение значений элементов массива\")\n",
        "print(st_d)\n",
        "\n"
      ],
      "metadata": {
        "colab": {
          "base_uri": "https://localhost:8080/"
        },
        "id": "AkuoEdbsHANZ",
        "outputId": "3b743b97-11fc-4c54-fbac-371a6c8577db"
      },
      "execution_count": null,
      "outputs": [
        {
          "output_type": "stream",
          "name": "stdout",
          "text": [
            "Исходная матрица\n",
            "[[4 0 5]\n",
            " [5 7 4]\n",
            " [4 9 2]]\n",
            "---------------\n",
            "Среднеквадратичное отклонение значений элементов массива\n",
            "2.454524670486058\n"
          ]
        }
      ]
    },
    {
      "cell_type": "markdown",
      "source": [
        "# ***Дисперсия значений элементов массива***"
      ],
      "metadata": {
        "id": "xu_MjzrFIebn"
      }
    },
    {
      "cell_type": "code",
      "source": [
        "import numpy as np\n",
        "\n",
        "A = np.random.randint(0,10, (3,3))\n",
        "\n",
        "v = np.var(A)\n",
        "\n",
        "print(\"Исходная матрица\")\n",
        "print(A)\n",
        "print(\"---------------\")\n",
        "print(\"Дисперсия значений элементов массива\")\n",
        "print(v)\n"
      ],
      "metadata": {
        "colab": {
          "base_uri": "https://localhost:8080/"
        },
        "id": "Cn8oWwSjIqtS",
        "outputId": "c9c73694-4e2b-42f9-ed57-09f9c6f3a25e"
      },
      "execution_count": null,
      "outputs": [
        {
          "output_type": "stream",
          "name": "stdout",
          "text": [
            "Исходная матрица\n",
            "[[8 7 2]\n",
            " [3 5 1]\n",
            " [3 7 6]]\n",
            "---------------\n",
            "Дисперсия значений элементов массива\n",
            "5.555555555555555\n"
          ]
        }
      ]
    },
    {
      "cell_type": "markdown",
      "source": [
        "linalg.solve(a, b) - решает систему :\\линейных уравнений Ax = b.\n"
      ],
      "metadata": {
        "id": "m_IT7BaaJT5I"
      }
    },
    {
      "cell_type": "markdown",
      "source": [
        "# ***Произведение Кронекера***"
      ],
      "metadata": {
        "id": "hySCUG0yjz_9"
      }
    },
    {
      "cell_type": "code",
      "source": [
        "import numpy as np\n",
        "\n",
        "A = np.random.randint(0,10, (1,2))\n",
        "B = np.random.randint(0,10, (1,2))\n",
        "\n",
        "kr = np.kron(A,B)\n",
        "print(\"Матрица А\")\n",
        "print(A)\n",
        "\n",
        "print(\"__________\")\n",
        "print(\"Матрица B\")\n",
        "print(B)\n",
        "print(\"__________\")\n",
        "\n",
        "print(\"Произведение Кронекера\")\n",
        "print(kr)\n",
        "print(\"__________\")\n",
        "\n",
        "#Изменим размерности матриц\n",
        "\n",
        "A = np.random.randint(0,10, (2,2))\n",
        "B = np.random.randint(0,10, (3,2))\n",
        "\n",
        "kr = np.kron(A,B)\n",
        "print(\"Матрица А\")\n",
        "print(A)\n",
        "\n",
        "print(\"__________\")\n",
        "print(\"Матрица B\")\n",
        "print(B)\n",
        "print(\"__________\")\n",
        "\n",
        "print(\"Произведение Кронекера\")\n",
        "print(kr)\n",
        "print(\"__________\")\n",
        "\n",
        "\n",
        "#Изменим размерности матриц\n",
        "\n",
        "A = np.random.randint(0,10, (3,3))\n",
        "B = np.random.randint(0,10, (3,3))\n",
        "\n",
        "kr = np.kron(A,B)\n",
        "print(\"Матрица А\")\n",
        "print(A)\n",
        "\n",
        "print(\"__________\")\n",
        "print(\"Матрица B\")\n",
        "print(B)\n",
        "print(\"__________\")\n",
        "\n",
        "print(\"Произведение Кронекера\")\n",
        "print(kr)\n",
        "print(\"__________\")\n",
        "\n"
      ],
      "metadata": {
        "colab": {
          "base_uri": "https://localhost:8080/"
        },
        "id": "7TkpX1mWj9un",
        "outputId": "36600e7b-fc95-4575-ed8e-f150bf704b3a"
      },
      "execution_count": null,
      "outputs": [
        {
          "output_type": "stream",
          "name": "stdout",
          "text": [
            "Матрица А\n",
            "[[7 4]]\n",
            "__________\n",
            "Матрица B\n",
            "[[5 9]]\n",
            "__________\n",
            "Произведение Кронекера\n",
            "[[35 63 20 36]]\n",
            "__________\n",
            "Матрица А\n",
            "[[9 7]\n",
            " [7 4]]\n",
            "__________\n",
            "Матрица B\n",
            "[[5 5]\n",
            " [5 7]\n",
            " [3 6]]\n",
            "__________\n",
            "Произведение Кронекера\n",
            "[[45 45 35 35]\n",
            " [45 63 35 49]\n",
            " [27 54 21 42]\n",
            " [35 35 20 20]\n",
            " [35 49 20 28]\n",
            " [21 42 12 24]]\n",
            "__________\n",
            "Матрица А\n",
            "[[2 4 4]\n",
            " [9 9 6]\n",
            " [0 6 2]]\n",
            "__________\n",
            "Матрица B\n",
            "[[0 4 5]\n",
            " [7 8 9]\n",
            " [0 0 7]]\n",
            "__________\n",
            "Произведение Кронекера\n",
            "[[ 0  8 10  0 16 20  0 16 20]\n",
            " [14 16 18 28 32 36 28 32 36]\n",
            " [ 0  0 14  0  0 28  0  0 28]\n",
            " [ 0 36 45  0 36 45  0 24 30]\n",
            " [63 72 81 63 72 81 42 48 54]\n",
            " [ 0  0 63  0  0 63  0  0 42]\n",
            " [ 0  0  0  0 24 30  0  8 10]\n",
            " [ 0  0  0 42 48 54 14 16 18]\n",
            " [ 0  0  0  0  0 42  0  0 14]]\n",
            "__________\n"
          ]
        }
      ]
    },
    {
      "cell_type": "markdown",
      "source": [
        "# ***Работа с файлами***"
      ],
      "metadata": {
        "id": "MUev23TxhyHf"
      }
    },
    {
      "cell_type": "code",
      "source": [
        "import numpy as np\n",
        "\n",
        "test_matrix_a = [\n",
        "    [1,2,3],\n",
        "    [4,5,6],\n",
        "    [7,8,9]\n",
        "  ]\n",
        "\n",
        "test_matrix_b = [\n",
        "    [4,7,3],\n",
        "    [1,2,9],\n",
        "    [2,8,5]\n",
        "  ]\n",
        "\n",
        "# Запись матриц в файл matrixes\n",
        "\n",
        "A = np.array(test_matrix)\n",
        "B = np.array(test_matrix)\n",
        "\n",
        "np.save('matrixes', A, B)\n",
        "\n",
        "print(\"В файл matrixes записаны матрицы:\")\n",
        "print(\"Матрица А:\")\n",
        "print(A)\n",
        "print(\"Матрица B:\")\n",
        "print(B)\n",
        "\n",
        "\n",
        "# Загрузка данных из файла\n",
        "\n",
        "a = np.load('matrixes.npy')\n",
        "b = np.load('matrixes.npy')\n",
        "print(\"Из файла matrixes загружены следующие матрицы:\")\n",
        "print(\"Матрица А:\")\n",
        "print(a)\n",
        "print(\"Матрица B:\")\n",
        "print(b)\n"
      ],
      "metadata": {
        "id": "aEW89-uOh2Lo",
        "colab": {
          "base_uri": "https://localhost:8080/"
        },
        "outputId": "b23d3307-61c3-4b91-866c-54ac21e3c7aa"
      },
      "execution_count": null,
      "outputs": [
        {
          "output_type": "stream",
          "name": "stdout",
          "text": [
            "В файл matrixes записаны матрицы:\n",
            "Матрица А:\n",
            "[[1 2 3]\n",
            " [4 5 6]\n",
            " [7 8 9]]\n",
            "Матрица B:\n",
            "[[1 2 3]\n",
            " [4 5 6]\n",
            " [7 8 9]]\n",
            "Из файла matrixes загружены следующие матрицы:\n",
            "Матрица А:\n",
            "[[1 2 3]\n",
            " [4 5 6]\n",
            " [7 8 9]]\n",
            "Матрица B:\n",
            "[[1 2 3]\n",
            " [4 5 6]\n",
            " [7 8 9]]\n"
          ]
        }
      ]
    },
    {
      "cell_type": "markdown",
      "source": [
        "# ***Ufunc Numpy***\n",
        "\n",
        "Универсальная функция (или сокращенно ufunc) - это функция, которая работает с массивами ndarrays поэлементно, поддерживая широковещательную передачу массивов, приведение типов и ряд других стандартных функций. \n",
        "То есть ufunc - это “векторизованная” оболочка для функции, которая принимает фиксированное количество определенных входных данных и выдает фиксированное количество определенных выходных данных. Для получения подробной информации об универсальных функциях см. \n",
        " [Основы универсальных функций (ufunc)](https://numpy.org/doc/stable/user/basics.ufuncs.html#ufuncs-basics)"
      ],
      "metadata": {
        "id": "zcws_yal5qZ_"
      }
    },
    {
      "cell_type": "markdown",
      "source": [
        "Все ufuncs имеют четыре метода. Их можно найти на сайте [Methods](https://numpy.org/doc/stable/reference/ufuncs.html#ufuncs-methods). Однако эти методы имеют смысл только для скалярных ufuncs, которые принимают два входных аргумента и возвращают один выходной аргумент. Попытка вызвать эти методы в других ufuncs вызовет ValueError."
      ],
      "metadata": {
        "id": "KRh0_wTCAx45"
      }
    },
    {
      "cell_type": "markdown",
      "source": [
        "# ***Зачем использовать Ufuncs?***\n",
        "ufuncs используются для реализации векторизации в NumPy, что намного быстрее, чем перебор элементов.\n",
        "\n",
        "Они также предоставляют широковещательную передачу и дополнительные методы, такие как уменьшение, накопление и т.д., Которые очень полезны для вычислений.\n",
        "\n",
        "ufuncs также принимают дополнительные аргументы, такие как:\n",
        "\n",
        "where - boolean array or condition defining where the operations should take place.\n",
        "Данный параметр принимает True (по умолчанию), False или массив логических значений в случае если универсальная функция возвращает несколько результирующих массивов. Значение True указывает на вычисление универсальной функции с сохранением результата в указанный в параметре out массив. В случае указания False, будут возвращены значения массива, который указан в out.\n",
        "\n",
        "Параметр where может оказаться полезен, в ситуациях когда обработку данных и сохранение вычислений необходимо выполнять в зависимости от некоторого условия. Например, необходимость обработки данных зависит от некоторого параметра c, который должен находиться в пределах некоторого интервала.\n",
        "\n",
        "dtype -  defining the return type of elements. Позволяет переопределить тип данных выходного массива.\n",
        "\n",
        "\n",
        "\n",
        "\n",
        "\n",
        "out - output array where the return value should be copied. Определяет место в которое будет сохранен результат функции. Если параметр не указан или указано None (по умолчанию), то будет возвращен автоматически созданный массив. Если в качестве параметра указан массив NumPy, то он должен иметь форму совместимую с формой входного массива. Если универсальная функция создает несколько выходных массивов, то для каждого из них можно указать место сохранения с помощью кортежа из массивов NumPy или None.\n",
        "\n",
        "Данный параметр очень полезен при больших вычислениях, так как позволяет избежать создания временного массива, записывая результат, непосредственно в то место памяти в которое необходимо."
      ],
      "metadata": {
        "id": "nJMMlUq9CIG5"
      }
    },
    {
      "cell_type": "markdown",
      "source": [
        "# ***Что такое векторизация?***\n",
        "Преобразование итеративных инструкций в векторную операцию называется векторизацией.\n",
        "\n",
        "Это быстрее, поскольку современные процессоры оптимизированы для таких операций."
      ],
      "metadata": {
        "id": "5raZyKCgCufZ"
      }
    },
    {
      "cell_type": "markdown",
      "source": [
        "# ***Сложение элементов***"
      ],
      "metadata": {
        "id": "WL5CC9MlrDip"
      }
    },
    {
      "cell_type": "code",
      "source": [
        "x = [1, 2, 3, 4]\n",
        "y = [4, 5, 6, 7]\n",
        "z = []\n",
        "\n",
        "for i, j in zip(x, y):\n",
        "  z.append(i + j)\n",
        "print(z)"
      ],
      "metadata": {
        "colab": {
          "base_uri": "https://localhost:8080/"
        },
        "id": "h-A9O9QZ-OlA",
        "outputId": "09bbdb1a-bf21-4025-f89f-fda04ca58530"
      },
      "execution_count": null,
      "outputs": [
        {
          "output_type": "stream",
          "name": "stdout",
          "text": [
            "[5, 7, 9, 11]\n"
          ]
        }
      ]
    },
    {
      "cell_type": "markdown",
      "source": [
        "# ***Сложение элементов с помощью ufunc***\n",
        "\n"
      ],
      "metadata": {
        "id": "x_PwZcUkrfiC"
      }
    },
    {
      "cell_type": "code",
      "source": [
        "import numpy as np\n",
        "\n",
        "x = [1, 2, 3, 4]\n",
        "y = [4, 5, 6, 7]\n",
        "z = np.add(x, y)\n",
        "\n",
        "print(z)\n"
      ],
      "metadata": {
        "colab": {
          "base_uri": "https://localhost:8080/"
        },
        "id": "DIRvaFUqrk0B",
        "outputId": "4a08982b-f98c-4c50-82a9-4aed7f3b0a2b"
      },
      "execution_count": null,
      "outputs": [
        {
          "output_type": "stream",
          "name": "stdout",
          "text": [
            "[ 5  7  9 11]\n"
          ]
        }
      ]
    },
    {
      "cell_type": "markdown",
      "source": [
        "# ***Создание собственной ufunc***\n",
        "\n",
        "Чтобы создать свой собственный ufunc, вы должны определить функцию, как вы делаете с обычными функциями в Python, затем вы добавляете ее в свою библиотеку NumPy ufunc с помощью метода frompyfunc().\n"
      ],
      "metadata": {
        "id": "4-ZPSl-nsDCn"
      }
    },
    {
      "cell_type": "markdown",
      "source": [
        "# ***Метод frompyfunc() принимает следующие аргументы:***\n",
        "\n",
        "function - название функции.\n",
        "\n",
        "inputs - количество входных аргументов (массивов).\n",
        "\n",
        "outputs - количество выходных массивов."
      ],
      "metadata": {
        "id": "-ADPYxXBsXRq"
      }
    },
    {
      "cell_type": "code",
      "source": [
        "import numpy as np\n",
        "\n",
        "def custom_multiply(x, y):\n",
        "  return x*y\n",
        "\n",
        "custom_ufunc = np.frompyfunc(custom_multiply, 2, 1)\n",
        "\n",
        "print(f\"Результатом работы функции типа: {type(custom_ufunc)}, является {custom_ufunc([1, 2, 3, 4], [5, 6, 7, 8])}\")\n"
      ],
      "metadata": {
        "colab": {
          "base_uri": "https://localhost:8080/"
        },
        "id": "-YojnPGksPii",
        "outputId": "7d0150ce-4233-4f34-db1c-9887f1bbbb46"
      },
      "execution_count": null,
      "outputs": [
        {
          "output_type": "stream",
          "name": "stdout",
          "text": [
            "Результатом работы функции типа: <class 'numpy.ufunc'>, является [5 12 21 32]\n"
          ]
        }
      ]
    },
    {
      "cell_type": "markdown",
      "source": [
        "# ***Subtraction***"
      ],
      "metadata": {
        "id": "-Ws-uddWtrmq"
      }
    },
    {
      "cell_type": "code",
      "source": [
        "import numpy as np\n",
        "\n",
        "arr1 = np.array([10, 20, 30, 40, 50, 60])\n",
        "arr2 = np.array([20, 21, 22, 23, 24, 25])\n",
        "\n",
        "result = np.subtract(arr1, arr2)\n",
        "\n",
        "print(result)"
      ],
      "metadata": {
        "colab": {
          "base_uri": "https://localhost:8080/"
        },
        "id": "WIOOE3nTtqAG",
        "outputId": "63de859b-6554-4974-f52e-4ec0d9f1f73b"
      },
      "execution_count": null,
      "outputs": [
        {
          "output_type": "stream",
          "name": "stdout",
          "text": [
            "[-10  -1   8  17  26  35]\n"
          ]
        }
      ]
    },
    {
      "cell_type": "markdown",
      "source": [
        "# ***Multiplication***\n"
      ],
      "metadata": {
        "id": "Q8XCRRQyt6Ka"
      }
    },
    {
      "cell_type": "code",
      "source": [
        "import numpy as np\n",
        "\n",
        "arr1 = np.array([10, 20, 30, 40, 50, 60])\n",
        "arr2 = np.array([20, 21, 22, 23, 24, 25])\n",
        "\n",
        "result = np.multiply(arr1, arr2)\n",
        "\n",
        "print(result)"
      ],
      "metadata": {
        "colab": {
          "base_uri": "https://localhost:8080/"
        },
        "id": "9OPpG5UBt5zy",
        "outputId": "3aac90ff-f964-48d5-b232-7df135159e30"
      },
      "execution_count": null,
      "outputs": [
        {
          "output_type": "stream",
          "name": "stdout",
          "text": [
            "[ 200  420  660  920 1200 1500]\n"
          ]
        }
      ]
    },
    {
      "cell_type": "markdown",
      "source": [
        "# ***Division***"
      ],
      "metadata": {
        "id": "YShwbDC7uBvD"
      }
    },
    {
      "cell_type": "code",
      "source": [
        "import numpy as np\n",
        "\n",
        "arr1 = np.array([10, 20, 30, 40, 50, 60])\n",
        "arr2 = np.array([3, 5, 10, 8, 2, 33])\n",
        "\n",
        "result = np.divide(arr1, arr2)\n",
        "\n",
        "print(result)"
      ],
      "metadata": {
        "colab": {
          "base_uri": "https://localhost:8080/"
        },
        "id": "YszPUrRuuBlc",
        "outputId": "350fef17-5c75-41b8-8373-84bb58e24988"
      },
      "execution_count": null,
      "outputs": [
        {
          "output_type": "stream",
          "name": "stdout",
          "text": [
            "[ 3.33333333  4.          3.          5.         25.          1.81818182]\n"
          ]
        }
      ]
    },
    {
      "cell_type": "markdown",
      "source": [
        "# ***Power***"
      ],
      "metadata": {
        "id": "On6UjfukuTHQ"
      }
    },
    {
      "cell_type": "code",
      "source": [
        "import numpy as np\n",
        "\n",
        "arr1 = np.array([10, 20, 30, 40, 50, 60])\n",
        "arr2 = np.array([3, 5, 6, 8, 2, 33])\n",
        "\n",
        "res = np.power(arr1, arr2)\n",
        "\n",
        "print(res)"
      ],
      "metadata": {
        "colab": {
          "base_uri": "https://localhost:8080/"
        },
        "id": "xElsTodcuS3I",
        "outputId": "1b7ccff2-d47f-4af9-ee79-24cad3ab4946"
      },
      "execution_count": null,
      "outputs": [
        {
          "output_type": "stream",
          "name": "stdout",
          "text": [
            "[         1000       3200000     729000000 6553600000000          2500\n",
            "             0]\n"
          ]
        }
      ]
    },
    {
      "cell_type": "markdown",
      "source": [
        "# ***Remainder***"
      ],
      "metadata": {
        "id": "bmqHxDpYunKj"
      }
    },
    {
      "cell_type": "code",
      "source": [
        "import numpy as np\n",
        "\n",
        "arr1 = np.array([10, 20, 30, 40, 50, 60])\n",
        "arr2 = np.array([3, 7, 9, 8, 2, 33])\n",
        "\n",
        "newarr = np.mod(arr1, arr2)\n",
        "\n",
        "print(newarr)"
      ],
      "metadata": {
        "colab": {
          "base_uri": "https://localhost:8080/"
        },
        "id": "Y-Im9t08um58",
        "outputId": "3583f0d5-8fab-4f17-9891-193c1a627c4b"
      },
      "execution_count": null,
      "outputs": [
        {
          "output_type": "stream",
          "name": "stdout",
          "text": [
            "[ 1  6  3  0  0 27]\n"
          ]
        }
      ]
    },
    {
      "cell_type": "markdown",
      "source": [
        "# ***Quotient and Mod***"
      ],
      "metadata": {
        "id": "08M9_1SBu1um"
      }
    },
    {
      "cell_type": "code",
      "source": [
        "import numpy as np\n",
        "\n",
        "arr1 = np.array([10, 20, 30, 40, 50, 60])\n",
        "arr2 = np.array([3, 7, 9, 8, 2, 33])\n",
        "\n",
        "res = np.divmod(arr1, arr2)\n",
        "\n",
        "print(res)"
      ],
      "metadata": {
        "colab": {
          "base_uri": "https://localhost:8080/"
        },
        "id": "UM-iWBjNu14e",
        "outputId": "eba7b2f5-55a9-4239-b88e-f7b5eb049ab7"
      },
      "execution_count": null,
      "outputs": [
        {
          "output_type": "stream",
          "name": "stdout",
          "text": [
            "(array([ 3,  2,  3,  5, 25,  1]), array([ 1,  6,  3,  0,  0, 27]))\n"
          ]
        }
      ]
    },
    {
      "cell_type": "markdown",
      "source": [
        "\n",
        "# ***Absolute Values***"
      ],
      "metadata": {
        "id": "R3EoXCFPvIZ4"
      }
    },
    {
      "cell_type": "code",
      "source": [
        "import numpy as np\n",
        "\n",
        "arr = np.array([-1, -2, 1, 2, 3, -4])\n",
        "\n",
        "res = np.absolute(arr)\n",
        "\n",
        "print(res)"
      ],
      "metadata": {
        "colab": {
          "base_uri": "https://localhost:8080/"
        },
        "id": "iLtnEGIbvLMR",
        "outputId": "ea61a4e8-5a4d-4f41-eb51-ab7ae93f4f1d"
      },
      "execution_count": null,
      "outputs": [
        {
          "output_type": "stream",
          "name": "stdout",
          "text": [
            "[1 2 1 2 3 4]\n"
          ]
        }
      ]
    },
    {
      "cell_type": "markdown",
      "source": [
        "# ***Округление десятичных дробей***\n",
        "В NumPy существует в основном пять способов округления десятичных дробей:\n",
        "\n",
        "*   truncation\n",
        "*   fix\n",
        "*   rounding\n",
        "*  floor\n",
        "*   ceil"
      ],
      "metadata": {
        "id": "BTOofm8dvtpK"
      }
    },
    {
      "cell_type": "markdown",
      "source": [
        "# ***Truncation***"
      ],
      "metadata": {
        "id": "YmA9KnOFwAHK"
      }
    },
    {
      "cell_type": "code",
      "source": [
        "import numpy as np\n",
        "\n",
        "arr = np.trunc([-7.12592, 4.12592])\n",
        "\n",
        "print(arr)"
      ],
      "metadata": {
        "colab": {
          "base_uri": "https://localhost:8080/"
        },
        "id": "157lYRmIvwAM",
        "outputId": "0d341ec2-bd02-4ee1-9abe-16a60bcef375"
      },
      "execution_count": null,
      "outputs": [
        {
          "output_type": "stream",
          "name": "stdout",
          "text": [
            "[-7.  4.]\n"
          ]
        }
      ]
    },
    {
      "cell_type": "code",
      "source": [
        "import numpy as np\n",
        "\n",
        "arr = np.fix([-7.12592, 4.12592])\n",
        "\n",
        "print(arr)"
      ],
      "metadata": {
        "colab": {
          "base_uri": "https://localhost:8080/"
        },
        "id": "J7rV3Oo_wdEQ",
        "outputId": "71bd6b44-1b4d-4ef1-b537-a362f20f6887"
      },
      "execution_count": null,
      "outputs": [
        {
          "output_type": "stream",
          "name": "stdout",
          "text": [
            "[-7.  4.]\n"
          ]
        }
      ]
    },
    {
      "cell_type": "markdown",
      "source": [
        "# ***Rounding***"
      ],
      "metadata": {
        "id": "rf8gQ0SawW4K"
      }
    },
    {
      "cell_type": "code",
      "source": [
        "import numpy as np\n",
        "\n",
        "arr = np.around(4.12592, 3)\n",
        "\n",
        "print(arr)"
      ],
      "metadata": {
        "colab": {
          "base_uri": "https://localhost:8080/"
        },
        "id": "7GhamIQQwugG",
        "outputId": "dee09406-fe98-4a80-9ff3-3e28fcf5577d"
      },
      "execution_count": null,
      "outputs": [
        {
          "output_type": "stream",
          "name": "stdout",
          "text": [
            "4.126\n"
          ]
        }
      ]
    },
    {
      "cell_type": "markdown",
      "source": [
        "# ***Floor***\n",
        "\n"
      ],
      "metadata": {
        "id": "uEKDhkyhwt_j"
      }
    },
    {
      "cell_type": "code",
      "source": [
        "import numpy as np\n",
        "\n",
        "arr = np.floor([4.12592, -7.12592])\n",
        "\n",
        "print(arr)"
      ],
      "metadata": {
        "colab": {
          "base_uri": "https://localhost:8080/"
        },
        "id": "7C9RwJwZxAkW",
        "outputId": "9b1a6adf-3faf-4768-c7ce-c640806b5e57"
      },
      "execution_count": null,
      "outputs": [
        {
          "output_type": "stream",
          "name": "stdout",
          "text": [
            "[-4.  3.]\n"
          ]
        }
      ]
    },
    {
      "cell_type": "markdown",
      "source": [
        "# ***Ceil***"
      ],
      "metadata": {
        "id": "5XW7rgbfwW_L"
      }
    },
    {
      "cell_type": "code",
      "source": [
        "import numpy as np\n",
        "\n",
        "arr = np.ceil([4.12592, -7.12592])\n",
        "\n",
        "print(arr)"
      ],
      "metadata": {
        "colab": {
          "base_uri": "https://localhost:8080/"
        },
        "id": "UsF83mb8xP8r",
        "outputId": "ceafb1c7-6696-4a49-83f3-c15988b7823b"
      },
      "execution_count": null,
      "outputs": [
        {
          "output_type": "stream",
          "name": "stdout",
          "text": [
            "[ 5. -7.]\n"
          ]
        }
      ]
    },
    {
      "cell_type": "markdown",
      "source": [
        "# ***Логарифмирование с NumPy***"
      ],
      "metadata": {
        "id": "JtmSFu2xyFGs"
      }
    },
    {
      "cell_type": "markdown",
      "source": [
        "***Логарифм с основанием 2***"
      ],
      "metadata": {
        "id": "oSRhWFYKyOIR"
      }
    },
    {
      "cell_type": "code",
      "source": [
        "import numpy as np\n",
        "\n",
        "arr = np.arange(1, 10)\n",
        "\n",
        "print(np.log2(arr))"
      ],
      "metadata": {
        "colab": {
          "base_uri": "https://localhost:8080/"
        },
        "id": "_Uc_JUnqyE4H",
        "outputId": "b5005f85-6333-46ad-f34c-137bbf1f7d73"
      },
      "execution_count": null,
      "outputs": [
        {
          "output_type": "stream",
          "name": "stdout",
          "text": [
            "[0.         1.         1.5849625  2.         2.32192809 2.5849625\n",
            " 2.80735492 3.         3.169925  ]\n"
          ]
        }
      ]
    },
    {
      "cell_type": "markdown",
      "source": [
        "***Логарифм с основанием 10*** "
      ],
      "metadata": {
        "id": "ghU39GEpzDkw"
      }
    },
    {
      "cell_type": "code",
      "source": [
        "import numpy as np\n",
        "\n",
        "arr = np.arange(1, 10)\n",
        "\n",
        "print(np.log10(arr))"
      ],
      "metadata": {
        "colab": {
          "base_uri": "https://localhost:8080/"
        },
        "id": "XuCZZlYbzpGY",
        "outputId": "8e272076-be04-4f05-c7ec-63fa5a256ddc"
      },
      "execution_count": null,
      "outputs": [
        {
          "output_type": "stream",
          "name": "stdout",
          "text": [
            "[0.         0.30103    0.47712125 0.60205999 0.69897    0.77815125\n",
            " 0.84509804 0.90308999 0.95424251]\n"
          ]
        }
      ]
    },
    {
      "cell_type": "markdown",
      "source": [
        "***Натуральный логарифм*** "
      ],
      "metadata": {
        "id": "rSlDeja1z-dT"
      }
    },
    {
      "cell_type": "code",
      "source": [
        "import numpy as np\n",
        "\n",
        "arr = np.arange(1, 10)\n",
        "\n",
        "print(np.log(arr))"
      ],
      "metadata": {
        "colab": {
          "base_uri": "https://localhost:8080/"
        },
        "id": "dzLDcWaM0HBd",
        "outputId": "e1898ee8-6ee5-4b24-ea4c-1a4e2241c6f2"
      },
      "execution_count": null,
      "outputs": [
        {
          "output_type": "stream",
          "name": "stdout",
          "text": [
            "[0.         0.69314718 1.09861229 1.38629436 1.60943791 1.79175947\n",
            " 1.94591015 2.07944154 2.19722458]\n"
          ]
        }
      ]
    },
    {
      "cell_type": "markdown",
      "source": [
        "# ***Логарифм с любым основанием***"
      ],
      "metadata": {
        "id": "NI2LbTli0R1Y"
      }
    },
    {
      "cell_type": "code",
      "source": [
        "from math import log\n",
        "import numpy as np\n",
        "\n",
        "nplog = np.frompyfunc(log, 2, 1)\n",
        "\n",
        "print(nplog(81, 3))"
      ],
      "metadata": {
        "colab": {
          "base_uri": "https://localhost:8080/"
        },
        "id": "dMV41yZC0Rbn",
        "outputId": "3b0f42c1-e366-44e9-88a6-b293f1782981"
      },
      "execution_count": null,
      "outputs": [
        {
          "output_type": "stream",
          "name": "stdout",
          "text": [
            "4.0\n"
          ]
        }
      ]
    },
    {
      "cell_type": "markdown",
      "source": [
        "# ***Произведение***\n",
        "\n",
        "Чтобы найти произведение элементов в массиве, используйте функцию prod().\n"
      ],
      "metadata": {
        "id": "ce2A421k1tv6"
      }
    },
    {
      "cell_type": "code",
      "source": [
        "import numpy as np\n",
        "\n",
        "arr = np.array([1, 2, 3, 4])\n",
        "\n",
        "x = np.prod(arr)\n",
        "\n",
        "print(x)"
      ],
      "metadata": {
        "id": "fVSJ2Fpg16ZB"
      },
      "execution_count": null,
      "outputs": []
    },
    {
      "cell_type": "code",
      "source": [
        "import numpy as np\n",
        "\n",
        "arr1 = np.array([1, 2, 3, 4])\n",
        "arr2 = np.array([5, 6, 7, 8])\n",
        "\n",
        "res = np.prod([arr1, arr2])\n",
        "\n",
        "print(res)"
      ],
      "metadata": {
        "colab": {
          "base_uri": "https://localhost:8080/"
        },
        "id": "n4m0usY917g6",
        "outputId": "23baa7c4-5c87-45cc-9c34-0531cab1d01e"
      },
      "execution_count": null,
      "outputs": [
        {
          "output_type": "stream",
          "name": "stdout",
          "text": [
            "40320\n"
          ]
        }
      ]
    },
    {
      "cell_type": "markdown",
      "source": [
        "# ***NumPy Differences***"
      ],
      "metadata": {
        "id": "YGVvypRO3iQ9"
      }
    },
    {
      "cell_type": "code",
      "source": [
        "import numpy as np\n",
        "\n",
        "arr = np.array([10, 15, 25, 5])\n",
        "\n",
        "res = np.diff(arr)\n",
        "\n",
        "print(res)\n",
        "\n",
        "# [5 10 -20] потому что 15-10=5, 25-15=10, и 5-25=-20"
      ],
      "metadata": {
        "colab": {
          "base_uri": "https://localhost:8080/"
        },
        "id": "0fOo91Ds3jgI",
        "outputId": "074950d5-d14e-4f7f-c8fb-599aec997873"
      },
      "execution_count": null,
      "outputs": [
        {
          "output_type": "stream",
          "name": "stdout",
          "text": [
            "[  5  10 -20]\n"
          ]
        }
      ]
    },
    {
      "cell_type": "code",
      "source": [
        "import numpy as np\n",
        "\n",
        "arr = np.array([10, 15, 25, 5])\n",
        "\n",
        "res = np.diff(arr, n=2)\n",
        "\n",
        "print(res)\n",
        "# [5 -30] потому что: 15-10=5, 25-15=10, и 5-25=-20 и 10-5=5 и -20-10=-30"
      ],
      "metadata": {
        "colab": {
          "base_uri": "https://localhost:8080/"
        },
        "id": "60O9Yjni3ysi",
        "outputId": "8cb2aaa2-57ba-4b1e-a1cb-d665b85a6b02"
      },
      "execution_count": null,
      "outputs": [
        {
          "output_type": "stream",
          "name": "stdout",
          "text": [
            "[  5 -30]\n"
          ]
        }
      ]
    },
    {
      "cell_type": "markdown",
      "source": [
        "# ***NumPy LCM Lowest Common Multiple***\n",
        "\n",
        "Наименьшее общее кратное"
      ],
      "metadata": {
        "id": "cfyYG5DD4ZKz"
      }
    },
    {
      "cell_type": "code",
      "source": [
        "import numpy as np\n",
        "\n",
        "num1 = 10\n",
        "num2 = 20\n",
        "\n",
        "x = np.lcm(num1, num2)\n",
        "\n",
        "print(x)"
      ],
      "metadata": {
        "colab": {
          "base_uri": "https://localhost:8080/"
        },
        "id": "KuQt8BK3495U",
        "outputId": "4e05e51a-319c-4560-b7df-2a8bf0a216fb"
      },
      "execution_count": null,
      "outputs": [
        {
          "output_type": "stream",
          "name": "stdout",
          "text": [
            "20\n"
          ]
        }
      ]
    },
    {
      "cell_type": "code",
      "source": [
        "import numpy as np\n",
        "\n",
        "arr = np.array([3, 6, 9])\n",
        "\n",
        "x = np.lcm.reduce(arr)\n",
        "\n",
        "print(x)\n",
        "# Возвращает: 18, потому что это наименьшее общее кратное из всех трех чисел (3*6=18, 6*3=18 и 9*2=18)."
      ],
      "metadata": {
        "colab": {
          "base_uri": "https://localhost:8080/"
        },
        "id": "cUXCYTbg5fvL",
        "outputId": "c103bc4c-c949-4c32-e1d1-fc057638b1f9"
      },
      "execution_count": null,
      "outputs": [
        {
          "output_type": "stream",
          "name": "stdout",
          "text": [
            "18\n"
          ]
        }
      ]
    },
    {
      "cell_type": "markdown",
      "source": [
        "# ***NumPy GCD Greatest Common Denominator***\n",
        "\n",
        "Наибольший общий делитель"
      ],
      "metadata": {
        "id": "u2e_hRhO7Dm3"
      }
    },
    {
      "cell_type": "code",
      "source": [
        "import numpy as np\n",
        "\n",
        "num1 = 6\n",
        "num2 = 9\n",
        "\n",
        "x = np.gcd(num1, num2)\n",
        "\n",
        "print(x)"
      ],
      "metadata": {
        "colab": {
          "base_uri": "https://localhost:8080/"
        },
        "id": "6IPZI6ys7J0P",
        "outputId": "7006919d-9995-4e79-b121-0f30984ba1e9"
      },
      "execution_count": null,
      "outputs": [
        {
          "output_type": "stream",
          "name": "stdout",
          "text": [
            "3\n"
          ]
        }
      ]
    },
    {
      "cell_type": "code",
      "source": [
        "import numpy as np\n",
        "\n",
        "arr = np.array([20, 8, 32, 36, 16])\n",
        "\n",
        "res = np.gcd.reduce(arr)\n",
        "\n",
        "print(res)"
      ],
      "metadata": {
        "colab": {
          "base_uri": "https://localhost:8080/"
        },
        "id": "1b7Nz7k27V--",
        "outputId": "8ad7c81c-4436-4ba6-b11f-83fea9bc0e0c"
      },
      "execution_count": null,
      "outputs": [
        {
          "output_type": "stream",
          "name": "stdout",
          "text": [
            "4\n"
          ]
        }
      ]
    },
    {
      "cell_type": "markdown",
      "source": [
        "\n",
        "# ***NumPy Set Operations***"
      ],
      "metadata": {
        "id": "DRmkLOY68XjZ"
      }
    },
    {
      "cell_type": "markdown",
      "source": [
        "\n",
        "# **Что такое множество?**\n",
        "Множество в математике - это набор уникальных элементов.\n",
        "\n",
        "Наборы используются для операций, включающих частые операции пересечения, объединения и разности."
      ],
      "metadata": {
        "id": "dhFc--kP8uhp"
      }
    },
    {
      "cell_type": "markdown",
      "source": [
        "# ***Создание множества***"
      ],
      "metadata": {
        "id": "5Xv7nFU89AT7"
      }
    },
    {
      "cell_type": "code",
      "source": [
        "import numpy as np\n",
        "\n",
        "arr = np.array([1, 1, 1, 2, 3, 4, 5, 5, 6, 7])\n",
        "\n",
        "x = np.unique(arr)\n",
        "\n",
        "print(x)"
      ],
      "metadata": {
        "colab": {
          "base_uri": "https://localhost:8080/"
        },
        "id": "2-fOx20s80Uw",
        "outputId": "1f2a8346-d1a3-4572-95a4-1910c0af210c"
      },
      "execution_count": null,
      "outputs": [
        {
          "output_type": "stream",
          "name": "stdout",
          "text": [
            "[1 2 3 4 5 6 7]\n"
          ]
        }
      ]
    },
    {
      "cell_type": "markdown",
      "source": [
        "***Чтобы найти уникальные значения двух массивов, используйте метод union()***"
      ],
      "metadata": {
        "id": "5LLM3sqZ9H55"
      }
    },
    {
      "cell_type": "code",
      "source": [
        "import numpy as np\n",
        "\n",
        "arr1 = np.array([1, 2, 3, 4])\n",
        "arr2 = np.array([3, 4, 5, 6])\n",
        "\n",
        "res = np.union1d(arr1, arr2)\n",
        "\n",
        "print(res)"
      ],
      "metadata": {
        "colab": {
          "base_uri": "https://localhost:8080/"
        },
        "id": "itFjT6zN9Q9C",
        "outputId": "3a75bf37-7ec4-4bd0-d82a-931e15706d76"
      },
      "execution_count": null,
      "outputs": [
        {
          "output_type": "stream",
          "name": "stdout",
          "text": [
            "[1 2 3 4 5 6]\n"
          ]
        }
      ]
    },
    {
      "cell_type": "markdown",
      "source": [
        "# ***Пересечение двух множеств***\n"
      ],
      "metadata": {
        "id": "0tef9ig29fV7"
      }
    },
    {
      "cell_type": "code",
      "source": [
        "import numpy as np\n",
        "\n",
        "arr1 = np.array([1, 2, 3, 4])\n",
        "arr2 = np.array([3, 4, 5, 6])\n",
        "\n",
        "res = np.intersect1d(arr1, arr2, assume_unique=True)\n",
        "\n",
        "print(res)"
      ],
      "metadata": {
        "colab": {
          "base_uri": "https://localhost:8080/"
        },
        "id": "ZxB8wgeT9da9",
        "outputId": "52493f61-4187-4b13-aca0-4ca3e981d2bc"
      },
      "execution_count": null,
      "outputs": [
        {
          "output_type": "stream",
          "name": "stdout",
          "text": [
            "[3 4]\n"
          ]
        }
      ]
    },
    {
      "cell_type": "markdown",
      "source": [
        "# ***Finding Difference***\n",
        "\n",
        "Чтобы найти только значения в первом множестве, которых нет во втором множестве, используйте метод setdiff1d()."
      ],
      "metadata": {
        "id": "NX3kQ68N_Zsq"
      }
    },
    {
      "cell_type": "code",
      "source": [
        "import numpy as np\n",
        "\n",
        "set1 = np.array([1, 2, 3, 4])\n",
        "set2 = np.array([3, 4, 5, 6])\n",
        "\n",
        "res = np.setdiff1d(set1, set2, assume_unique=True)\n",
        "\n",
        "print(res)"
      ],
      "metadata": {
        "colab": {
          "base_uri": "https://localhost:8080/"
        },
        "id": "ruA0jKuI-6xe",
        "outputId": "e908f984-39c1-40df-ac2b-ddf7539dd772"
      },
      "execution_count": null,
      "outputs": [
        {
          "output_type": "stream",
          "name": "stdout",
          "text": [
            "[1 2]\n"
          ]
        }
      ]
    },
    {
      "cell_type": "markdown",
      "source": [
        "# ***Symmetric Difference***"
      ],
      "metadata": {
        "id": "C8_o6xuw_uiW"
      }
    },
    {
      "cell_type": "code",
      "source": [
        "import numpy as np\n",
        "\n",
        "set1 = np.array([1, 2, 3, 4])\n",
        "set2 = np.array([3, 4, 5, 6])\n",
        "\n",
        "res = np.setxor1d(set1, set2, assume_unique=True)\n",
        "\n",
        "print(res)"
      ],
      "metadata": {
        "colab": {
          "base_uri": "https://localhost:8080/"
        },
        "id": "g_9BxJIkBGKg",
        "outputId": "af84209f-e87f-47dd-c70e-042cc428e791"
      },
      "execution_count": null,
      "outputs": [
        {
          "output_type": "stream",
          "name": "stdout",
          "text": [
            "[1 2 5 6]\n"
          ]
        }
      ]
    },
    {
      "cell_type": "markdown",
      "source": [
        "# ***Тригонометрические функции NumPy***"
      ],
      "metadata": {
        "id": "R8CDAk1RBaHl"
      }
    },
    {
      "cell_type": "code",
      "source": [
        "import numpy as np\n",
        "\n",
        "x = np.sin(np.pi/2)\n",
        "y = np.cos(np.pi/2)\n",
        "z = np.tan(np.pi/2)\n",
        "\n",
        "x,y,z"
      ],
      "metadata": {
        "colab": {
          "base_uri": "https://localhost:8080/"
        },
        "id": "n1hGc76ABZ2z",
        "outputId": "d4ecbd17-33c9-4881-eef6-05f98a693482"
      },
      "execution_count": null,
      "outputs": [
        {
          "output_type": "execute_result",
          "data": {
            "text/plain": [
              "(1.0, 6.123233995736766e-17, 1.633123935319537e+16)"
            ]
          },
          "metadata": {},
          "execution_count": 56
        }
      ]
    },
    {
      "cell_type": "code",
      "source": [
        "import numpy as np\n",
        "\n",
        "arr = np.array([np.pi/2, np.pi/3, np.pi/4, np.pi/5])\n",
        "x = np.sin(arr)\n",
        "print(x)"
      ],
      "metadata": {
        "colab": {
          "base_uri": "https://localhost:8080/"
        },
        "id": "cTQjNWk5BtCw",
        "outputId": "41d885e0-c33a-4240-a2eb-fb6302b72045"
      },
      "execution_count": null,
      "outputs": [
        {
          "output_type": "stream",
          "name": "stdout",
          "text": [
            "[1.         0.8660254  0.70710678 0.58778525]\n"
          ]
        }
      ]
    },
    {
      "cell_type": "markdown",
      "source": [
        "# ***Перевод градусов в радианы NumPy***\n"
      ],
      "metadata": {
        "id": "KOnlNhA0ByBi"
      }
    },
    {
      "cell_type": "code",
      "source": [
        "import numpy as np\n",
        "arr = np.array([90, 180, 270, 360])\n",
        "x = np.deg2rad(arr)\n",
        "\n",
        "print(x)"
      ],
      "metadata": {
        "colab": {
          "base_uri": "https://localhost:8080/"
        },
        "id": "N4acRGg9B5vi",
        "outputId": "ff4bcaf1-c693-4710-81ed-76fe534ae52c"
      },
      "execution_count": null,
      "outputs": [
        {
          "output_type": "stream",
          "name": "stdout",
          "text": [
            "[1.57079633 3.14159265 4.71238898 6.28318531]\n"
          ]
        }
      ]
    },
    {
      "cell_type": "markdown",
      "source": [
        "# ***Перевод радиан в градусы NumPy***"
      ],
      "metadata": {
        "id": "31G5n954CSMJ"
      }
    },
    {
      "cell_type": "code",
      "source": [
        "import numpy as np\n",
        "\n",
        "arr = np.array([np.pi/2, np.pi, 1.5*np.pi, 2*np.pi])\n",
        "\n",
        "x = np.rad2deg(arr)\n",
        "\n",
        "print(x)"
      ],
      "metadata": {
        "colab": {
          "base_uri": "https://localhost:8080/"
        },
        "id": "4iwVsbEhCYNg",
        "outputId": "f7263dc4-4557-4808-d90d-8ab9ed3adb65"
      },
      "execution_count": null,
      "outputs": [
        {
          "output_type": "stream",
          "name": "stdout",
          "text": [
            "[ 90. 180. 270. 360.]\n"
          ]
        }
      ]
    },
    {
      "cell_type": "markdown",
      "source": [
        "# ***Поиск углов***"
      ],
      "metadata": {
        "id": "Ojyw-zxsCeei"
      }
    },
    {
      "cell_type": "code",
      "source": [
        "import numpy as np\n",
        "\n",
        "x = np.arcsin(1.0)\n",
        "y = np.arccos(1.0)\n",
        "z = np.arctan(1.0)\n",
        "\n",
        "x,y,z"
      ],
      "metadata": {
        "colab": {
          "base_uri": "https://localhost:8080/"
        },
        "id": "esyVWwtACfov",
        "outputId": "87184444-6b3a-437c-e3ae-d183c2c14aa5"
      },
      "execution_count": null,
      "outputs": [
        {
          "output_type": "execute_result",
          "data": {
            "text/plain": [
              "(1.5707963267948966, 0.0, 0.7853981633974483)"
            ]
          },
          "metadata": {},
          "execution_count": 60
        }
      ]
    },
    {
      "cell_type": "markdown",
      "source": [
        "# ***Поиск углов для каждого элемента массива***"
      ],
      "metadata": {
        "id": "YKJKByDOCvtb"
      }
    },
    {
      "cell_type": "code",
      "source": [
        "import numpy as np\n",
        "\n",
        "arr = np.array([1, -1, 0.1])\n",
        "\n",
        "x = np.arcsin(arr)\n",
        "\n",
        "print(x)"
      ],
      "metadata": {
        "colab": {
          "base_uri": "https://localhost:8080/"
        },
        "id": "bGpWR0sTCtW5",
        "outputId": "b8bdb5de-0d9c-40ad-a9da-70f584caf5cb"
      },
      "execution_count": null,
      "outputs": [
        {
          "output_type": "stream",
          "name": "stdout",
          "text": [
            "[ 1.57079633 -1.57079633  0.10016742]\n"
          ]
        }
      ]
    },
    {
      "cell_type": "markdown",
      "source": [
        "# ***Вычисление гипотенузы***"
      ],
      "metadata": {
        "id": "2qUDGWPLC3wQ"
      }
    },
    {
      "cell_type": "code",
      "source": [
        "import numpy as np\n",
        "\n",
        "base = 3\n",
        "perp = 4\n",
        "\n",
        "x = np.hypot(base, perp)\n",
        "\n",
        "print(x)"
      ],
      "metadata": {
        "colab": {
          "base_uri": "https://localhost:8080/"
        },
        "id": "xXiWE8MCC6WY",
        "outputId": "41874ae9-aaca-41bc-9e49-d15b6332ea23"
      },
      "execution_count": null,
      "outputs": [
        {
          "output_type": "stream",
          "name": "stdout",
          "text": [
            "5.0\n"
          ]
        }
      ]
    },
    {
      "cell_type": "markdown",
      "source": [
        "\n",
        "# ***Гиперболические функции***"
      ],
      "metadata": {
        "id": "HUXTf071DCax"
      }
    },
    {
      "cell_type": "code",
      "source": [
        "import numpy as np\n",
        "\n",
        "x = np.sinh(np.pi/2)\n",
        "y = np.cosh(np.pi/2)\n",
        "z = np.tanh(np.pi/2)\n",
        "\n",
        "x,y,z"
      ],
      "metadata": {
        "colab": {
          "base_uri": "https://localhost:8080/"
        },
        "id": "68Hh6QB3DduX",
        "outputId": "60203ac8-35af-471a-b743-9ee0f9718981"
      },
      "execution_count": null,
      "outputs": [
        {
          "output_type": "execute_result",
          "data": {
            "text/plain": [
              "(2.3012989023072947, 2.5091784786580567, 0.9171523356672744)"
            ]
          },
          "metadata": {},
          "execution_count": 63
        }
      ]
    },
    {
      "cell_type": "markdown",
      "source": [
        "# ***Выисление значений гиперболических функций для каждого элемента массива***"
      ],
      "metadata": {
        "id": "84iIo83RD5mo"
      }
    },
    {
      "cell_type": "code",
      "source": [
        "import numpy as np\n",
        "\n",
        "arr = np.array([np.pi/2, np.pi/3, np.pi/4, np.pi/5])\n",
        "\n",
        "x = np.sinh(arr)\n",
        "y = np.cosh(arr)\n",
        "z = np.tanh(arr)\n",
        "\n",
        "x,y,z"
      ],
      "metadata": {
        "colab": {
          "base_uri": "https://localhost:8080/"
        },
        "id": "Ey6a0e_yDuJz",
        "outputId": "d8981d86-a8e5-460b-b857-01bc462e0493"
      },
      "execution_count": null,
      "outputs": [
        {
          "output_type": "execute_result",
          "data": {
            "text/plain": [
              "(array([2.3012989 , 1.24936705, 0.86867096, 0.670484  ]),\n",
              " array([2.50917848, 1.60028686, 1.32460909, 1.20397209]),\n",
              " array([0.91715234, 0.78071444, 0.6557942 , 0.55689331]))"
            ]
          },
          "metadata": {},
          "execution_count": 64
        }
      ]
    },
    {
      "cell_type": "markdown",
      "source": [
        "# ***Поиск углов***"
      ],
      "metadata": {
        "id": "LydoG97pEOyn"
      }
    },
    {
      "cell_type": "code",
      "source": [
        "import numpy as np\n",
        "\n",
        "x = np.arcsinh(1.0)\n",
        "y = np.arccosh(1.0)\n",
        "z = np.arctanh(0.7)\n",
        "\n",
        "x,y,z"
      ],
      "metadata": {
        "colab": {
          "base_uri": "https://localhost:8080/"
        },
        "id": "lpderiSxEQVD",
        "outputId": "47539a03-ce8e-474a-f6fa-32d179a4d0ae"
      },
      "execution_count": null,
      "outputs": [
        {
          "output_type": "execute_result",
          "data": {
            "text/plain": [
              "(0.881373587019543, 0.0, 0.8673005276940531)"
            ]
          },
          "metadata": {},
          "execution_count": 66
        }
      ]
    },
    {
      "cell_type": "markdown",
      "source": [
        "# ***Определение угла для каждого значения в массиве***"
      ],
      "metadata": {
        "id": "7PZanvinEhJD"
      }
    },
    {
      "cell_type": "code",
      "source": [
        "import numpy as np\n",
        "\n",
        "arr = np.array([0.3, 0.2, 0.5])\n",
        "\n",
        "x = np.arcsinh(arr)\n",
        "y = np.arccosh(np.array([1, 1, 1]))\n",
        "z = np.arctanh(arr)\n",
        "\n",
        "x,y,z"
      ],
      "metadata": {
        "colab": {
          "base_uri": "https://localhost:8080/"
        },
        "id": "Y6sHm6VbEo2j",
        "outputId": "6ea9897f-c0b5-480a-bb67-d4d7136d72aa"
      },
      "execution_count": null,
      "outputs": [
        {
          "output_type": "execute_result",
          "data": {
            "text/plain": [
              "(array([0.29567305, 0.19869011, 0.48121183]),\n",
              " array([0., 0., 0.]),\n",
              " array([0.3095196 , 0.20273255, 0.54930614]))"
            ]
          },
          "metadata": {},
          "execution_count": 70
        }
      ]
    },
    {
      "cell_type": "markdown",
      "source": [
        "# ***ЗАДАНИЕ ПО РАЗДЕЛУ NumPy***\n",
        "\n",
        "1.   Будет текстовый файл с числами которые нужно использовать для создания массива.  \n",
        "\n",
        "2.   Будет СЛАУ которую нужно решить методом Гаусса/Крамера. \n",
        "\n",
        "3.   Решить линейное тензорное уравнение\n",
        "\n",
        "4.   Решить задачу поиска наименьших квадратов для линейного матричного уравнения.\n",
        "\n",
        "5.   Будет CSV файл с набором измерений. Нужно рассчитать дисперсию, среднеквадратичное отклонение, отобразить гистограмму и решить задачу поиска наименьших квадратов.\n",
        "\n",
        "\n",
        "Нужно реализовать программу, которая принимает текстовый файл (в файле есть все данные для заданий 1-4) и записывает ответы для каждого задания в единый файл и сохраняет его на компьютере.\n",
        "\n",
        "Для задания 5 все то же самое только принимает CSV и возвращает .txt файл + изображение с гистограммой + изображение с решением задачи поиска наименьших квадратов.\n",
        "\n",
        "\n",
        "\n",
        "\n",
        "\n",
        "\n"
      ],
      "metadata": {
        "id": "_G_aySVah3mi"
      }
    },
    {
      "cell_type": "markdown",
      "source": [
        "#***КОНТРОЛЬНЫЕ ВОПРОСЫ***\n",
        "\n",
        "1.   Какие типы данных поддерживает NumPy?\n",
        "2.   Что такое машинное обучение? Где находит применение?\n",
        "3.   Что такое наука о данных? Где находит применение?\n",
        "4.   Нужны ли физику, на Ваш взгляд, навыки в области машинного обучения и науки о данных? Почему?\n",
        "\n"
      ],
      "metadata": {
        "id": "TaxaZn2xK901"
      }
    },
    {
      "cell_type": "markdown",
      "source": [
        "# Pandas"
      ],
      "metadata": {
        "id": "Kf2nqEVshTY_"
      }
    },
    {
      "cell_type": "markdown",
      "source": [
        "[Ссылка на интерактивный учебник](https://colab.research.google.com/drive/1dHCXHce6TerFQNnnL6U1NxvBUbnEpscP#scrollTo=I0nAGPZ0EGu1)\n",
        "\n",
        "[Презентация](https://docs.google.com/presentation/d/1k3ZtgcxQE8nkELOy2UJJdjHiMvcr301aWmLWqeAvqeQ/edit#slide=id.g1bc00e5c921_2_661)\n",
        "\n",
        "[Документация](https://pandas.pydata.org/)\n"
      ],
      "metadata": {
        "id": "C44H41YA9o8K"
      }
    },
    {
      "cell_type": "markdown",
      "source": [
        "# Matplotlib\n"
      ],
      "metadata": {
        "id": "-AyMhHTzhdRk"
      }
    },
    {
      "cell_type": "markdown",
      "source": [
        "[Ссылка на интерактивный учебник](https://colab.research.google.com/drive/1pNRfVksVBfXwje2jSPgkkqJEcilaYHXD#scrollTo=lBSOR2jXOJ88)\n",
        "\n",
        "[Презентация](https://docs.google.com/presentation/d/1HnMsELAZ5AQsPIewYWgvVBFYOzJ2lbkFsZNRsLTsPwk/edit#slide=id.p)\n",
        "\n",
        "[Официальная документация](https://matplotlib.org/)"
      ],
      "metadata": {
        "id": "UdU-a9PlWgcb"
      }
    },
    {
      "cell_type": "markdown",
      "source": [
        "#Seaborn\n"
      ],
      "metadata": {
        "id": "ai8GZ93JhhLA"
      }
    },
    {
      "cell_type": "markdown",
      "source": [
        "[Ссылка на интерактивный учебник](https://colab.research.google.com/drive/1F6bZK7MyzvZheZEWPcCNib9Iv2sij4Rw)\n",
        "\n",
        "[Презентация](https://docs.google.com/presentation/d/1uUEZ8r6bx3KtTJ4LV8XxBWwoFec8MljjCfA7UqX_T1M/edit#slide=id.g181bfb9cb2c_0_83)\n",
        "\n",
        "[Документация](https://seaborn.pydata.org/)\n",
        "\n"
      ],
      "metadata": {
        "id": "6HfXq7btBspp"
      }
    },
    {
      "cell_type": "markdown",
      "source": [
        "# ***Полезные источники для выполнения лабораторных работ и подготовки к экзамену***\n",
        "\n",
        "1.   Data Science. Наука о данных с нуля (Джоэл Грас)\n",
        "\n",
        "2.   Прикладное машинное обучение с помощью scikit-learn и tensorflow \n",
        "\n",
        "3.   Python для сложных задач (Дж. Вандер Плас)\n",
        "\n",
        "4.   Линейная алгебра на Python (Devpractise team)\n",
        "\n",
        "2.   Data driven science and engineering. Machine learning, dynamical systems and control (Steven L. Brunton, J. Nathan Kutz)\n",
        "\n",
        "  # **[Ссылка на электронные версии книг](https://drive.google.com/drive/folders/1mpl_J1kqxaVPoewaNZnwbyifBKJWY1p8?usp=sharing)**\n",
        "\n",
        "\n",
        "\n"
      ],
      "metadata": {
        "id": "ubzwQtVYOLwc"
      }
    }
  ]
}